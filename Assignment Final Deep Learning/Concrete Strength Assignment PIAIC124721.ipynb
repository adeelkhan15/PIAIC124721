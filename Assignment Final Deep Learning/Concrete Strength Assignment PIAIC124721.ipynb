{
 "cells": [
  {
   "cell_type": "markdown",
   "metadata": {},
   "source": [
    "# Assignment: Compresive Strength Concrete Problem\n",
    "\n",
    "\n",
    "### Abstract: \n",
    "\n",
    "Concrete is the most important material in civil engineering. The concrete compressive strength (concrete strength to bear the load) is a highly nonlinear function of age and ingredients.  <br><br>\n",
    "\n",
    "<table border=\"1\"  cellpadding=\"6\" bordercolor=\"red\">\n",
    "\t<tbody>\n",
    "        <tr>\n",
    "\t\t<td bgcolor=\"#DDEEFF\"><p class=\"normal\"><b>Data Set Characteristics:&nbsp;&nbsp;</b></p></td>\n",
    "\t\t<td><p class=\"normal\">Multivariate</p></td>\n",
    "\t\t<td bgcolor=\"#DDEEFF\"><p class=\"normal\"><b>Number of Instances:</b></p></td>\n",
    "\t\t<td><p class=\"normal\">1030</p></td>\n",
    "\t\t<td bgcolor=\"#DDEEFF\"><p class=\"normal\"><b>Area:</b></p></td>\n",
    "\t\t<td><p class=\"normal\">Physical</p></td>\n",
    "        </tr>\n",
    "     </tbody>\n",
    "    </table>\n",
    "<table border=\"1\" cellpadding=\"6\">\n",
    "    <tbody>\n",
    "        <tr>\n",
    "            <td bgcolor=\"#DDEEFF\"><p class=\"normal\"><b>Attribute Characteristics:</b></p></td>\n",
    "            <td><p class=\"normal\">Real</p></td>\n",
    "            <td bgcolor=\"#DDEEFF\"><p class=\"normal\"><b>Number of Attributes:</b></p></td>\n",
    "            <td><p class=\"normal\">9</p></td>\n",
    "            <td bgcolor=\"#DDEEFF\"><p class=\"normal\"><b>Date Donated</b></p></td>\n",
    "            <td><p class=\"normal\">2007-08-03</p></td>\n",
    "        </tr>\n",
    "     </tbody>\n",
    "    </table>\n",
    "<table border=\"1\" cellpadding=\"6\">\t\n",
    "    <tbody>\n",
    "    <tr>\n",
    "\t\t<td bgcolor=\"#DDEEFF\"><p class=\"normal\"><b>Associated Tasks:</b></p></td>\n",
    "\t\t<td><p class=\"normal\">Regression</p></td>\n",
    "\t\t<td bgcolor=\"#DDEEFF\"><p class=\"normal\"><b>Missing Values?</b></p></td>\n",
    "\t\t<td><p class=\"normal\">N/A</p></td>\n",
    "\t\t<td bgcolor=\"#DDEEFF\"><p class=\"normal\"><b>Number of Web Hits:</b></p></td>\n",
    "\t\t<td><p class=\"normal\">231464</p></td>\n",
    "\t</tr>\n",
    "    </tbody>\n",
    "    </table>"
   ]
  },
  {
   "cell_type": "markdown",
   "metadata": {},
   "source": [
    "###  Description:\n",
    "| Features Name | Data Type | Measurement | Description |\n",
    "| -- | -- | -- | -- |\n",
    "Cement (component 1) | quantitative | kg in a m3 mixture | Input Variable\n",
    "Blast Furnace Slag (component 2) | quantitative | kg in a m3 mixture | Input Variable\n",
    "Fly Ash (component 3) | quantitative | kg in a m3 mixture | Input Variable\n",
    "Water (component 4) | quantitative | kg in a m3 mixture | Input Variable\n",
    "Superplasticizer (component 5) | quantitative | kg in a m3 mixture | Input Variable\n",
    "Coarse Aggregate (component 6) | quantitative | kg in a m3 mixture | Input Variable\n",
    "Fine Aggregate (component 7) | quantitative | kg in a m3 mixture | Input Variable\n",
    "Age | quantitative | Day (1~365) | Input Variable\n",
    "Concrete compressive strength | quantitative | MPa | Output Variable\n",
    "\n",
    "### WORKFLOW :\n",
    "- Load Data\n",
    "- Check Missing Values ( If Exist ; Fill each record with mean of its feature )\n",
    "- Standardized the Input Variables. **Hint**: Centeralized the data\n",
    "- Split into 50% Training(Samples,Labels) , 30% Test(Samples,Labels) and 20% Validation Data(Samples,Labels).\n",
    "- Model : input Layer (No. of features ), 3 hidden layers including 10,8,6 unit & Output Layer with activation function relu/tanh (check by experiment).\n",
    "- Compilation Step (Note : Its a Regression problem , select loss , metrics according to it)\n",
    "- Train the Model with Epochs (100) and validate it\n",
    "- If the model gets overfit tune your model by changing the units , No. of layers , activation function , epochs , add dropout layer or add Regularizer according to the need .\n",
    "- Evaluation Step\n",
    "- Prediction\n"
   ]
  },
  {
   "cell_type": "markdown",
   "metadata": {},
   "source": [
    "# Load Data:\n",
    "[Click Here to Download DataSet](https://github.com/ramsha275/ML_Datasets/blob/main/compresive_strength_concrete.csv)"
   ]
  },
  {
   "cell_type": "code",
   "execution_count": 33,
   "metadata": {},
   "outputs": [],
   "source": [
    "import numpy as np\n",
    "import pandas as pd\n",
    "import tensorflow as tp\n",
    "import matplotlib.pyplot as plt\n",
    "import tensorflow as tf\n",
    "from tensorflow.keras import models,layers,optimizers,utils\n",
    "from tensorflow.keras.utils import to_categorical\n",
    "from tensorflow.keras.models import Sequential\n",
    "from tensorflow.keras.layers import Dense\n",
    "from tensorflow.keras.utils import to_categorical\n",
    "from sklearn.model_selection import train_test_split\n",
    "from sklearn.preprocessing import StandardScaler\n",
    "from sklearn.preprocessing import LabelEncoder\n",
    "from sklearn.preprocessing import OneHotEncoder\n",
    "from sklearn.metrics import mean_squared_error"
   ]
  },
  {
   "cell_type": "code",
   "execution_count": 34,
   "metadata": {},
   "outputs": [],
   "source": [
    "df=pd.read_csv(\"datasets/concrete strength/compresive_strength_concrete.csv\")"
   ]
  },
  {
   "cell_type": "code",
   "execution_count": 35,
   "metadata": {},
   "outputs": [
    {
     "data": {
      "text/html": [
       "<div>\n",
       "<style scoped>\n",
       "    .dataframe tbody tr th:only-of-type {\n",
       "        vertical-align: middle;\n",
       "    }\n",
       "\n",
       "    .dataframe tbody tr th {\n",
       "        vertical-align: top;\n",
       "    }\n",
       "\n",
       "    .dataframe thead th {\n",
       "        text-align: right;\n",
       "    }\n",
       "</style>\n",
       "<table border=\"1\" class=\"dataframe\">\n",
       "  <thead>\n",
       "    <tr style=\"text-align: right;\">\n",
       "      <th></th>\n",
       "      <th>Cement (component 1)(kg in a m^3 mixture)</th>\n",
       "      <th>Blast Furnace Slag (component 2)(kg in a m^3 mixture)</th>\n",
       "      <th>Fly Ash (component 3)(kg in a m^3 mixture)</th>\n",
       "      <th>Water  (component 4)(kg in a m^3 mixture)</th>\n",
       "      <th>Superplasticizer (component 5)(kg in a m^3 mixture)</th>\n",
       "      <th>Coarse Aggregate  (component 6)(kg in a m^3 mixture)</th>\n",
       "      <th>Fine Aggregate (component 7)(kg in a m^3 mixture)</th>\n",
       "      <th>Age (day)</th>\n",
       "      <th>Concrete compressive strength(MPa, megapascals)</th>\n",
       "    </tr>\n",
       "  </thead>\n",
       "  <tbody>\n",
       "    <tr>\n",
       "      <th>0</th>\n",
       "      <td>540.0</td>\n",
       "      <td>0.0</td>\n",
       "      <td>0.0</td>\n",
       "      <td>162.0</td>\n",
       "      <td>2.5</td>\n",
       "      <td>1040.0</td>\n",
       "      <td>676.0</td>\n",
       "      <td>28</td>\n",
       "      <td>79.99</td>\n",
       "    </tr>\n",
       "    <tr>\n",
       "      <th>1</th>\n",
       "      <td>540.0</td>\n",
       "      <td>0.0</td>\n",
       "      <td>0.0</td>\n",
       "      <td>162.0</td>\n",
       "      <td>2.5</td>\n",
       "      <td>1055.0</td>\n",
       "      <td>676.0</td>\n",
       "      <td>28</td>\n",
       "      <td>61.89</td>\n",
       "    </tr>\n",
       "    <tr>\n",
       "      <th>2</th>\n",
       "      <td>332.5</td>\n",
       "      <td>142.5</td>\n",
       "      <td>0.0</td>\n",
       "      <td>228.0</td>\n",
       "      <td>0.0</td>\n",
       "      <td>932.0</td>\n",
       "      <td>594.0</td>\n",
       "      <td>270</td>\n",
       "      <td>40.27</td>\n",
       "    </tr>\n",
       "    <tr>\n",
       "      <th>3</th>\n",
       "      <td>332.5</td>\n",
       "      <td>142.5</td>\n",
       "      <td>0.0</td>\n",
       "      <td>228.0</td>\n",
       "      <td>0.0</td>\n",
       "      <td>932.0</td>\n",
       "      <td>594.0</td>\n",
       "      <td>365</td>\n",
       "      <td>41.05</td>\n",
       "    </tr>\n",
       "    <tr>\n",
       "      <th>4</th>\n",
       "      <td>198.6</td>\n",
       "      <td>132.4</td>\n",
       "      <td>0.0</td>\n",
       "      <td>192.0</td>\n",
       "      <td>0.0</td>\n",
       "      <td>978.4</td>\n",
       "      <td>825.5</td>\n",
       "      <td>360</td>\n",
       "      <td>44.30</td>\n",
       "    </tr>\n",
       "  </tbody>\n",
       "</table>\n",
       "</div>"
      ],
      "text/plain": [
       "   Cement (component 1)(kg in a m^3 mixture)  \\\n",
       "0                                      540.0   \n",
       "1                                      540.0   \n",
       "2                                      332.5   \n",
       "3                                      332.5   \n",
       "4                                      198.6   \n",
       "\n",
       "   Blast Furnace Slag (component 2)(kg in a m^3 mixture)  \\\n",
       "0                                                0.0       \n",
       "1                                                0.0       \n",
       "2                                              142.5       \n",
       "3                                              142.5       \n",
       "4                                              132.4       \n",
       "\n",
       "   Fly Ash (component 3)(kg in a m^3 mixture)  \\\n",
       "0                                         0.0   \n",
       "1                                         0.0   \n",
       "2                                         0.0   \n",
       "3                                         0.0   \n",
       "4                                         0.0   \n",
       "\n",
       "   Water  (component 4)(kg in a m^3 mixture)  \\\n",
       "0                                      162.0   \n",
       "1                                      162.0   \n",
       "2                                      228.0   \n",
       "3                                      228.0   \n",
       "4                                      192.0   \n",
       "\n",
       "   Superplasticizer (component 5)(kg in a m^3 mixture)  \\\n",
       "0                                                2.5     \n",
       "1                                                2.5     \n",
       "2                                                0.0     \n",
       "3                                                0.0     \n",
       "4                                                0.0     \n",
       "\n",
       "   Coarse Aggregate  (component 6)(kg in a m^3 mixture)  \\\n",
       "0                                             1040.0      \n",
       "1                                             1055.0      \n",
       "2                                              932.0      \n",
       "3                                              932.0      \n",
       "4                                              978.4      \n",
       "\n",
       "   Fine Aggregate (component 7)(kg in a m^3 mixture)  Age (day)  \\\n",
       "0                                              676.0         28   \n",
       "1                                              676.0         28   \n",
       "2                                              594.0        270   \n",
       "3                                              594.0        365   \n",
       "4                                              825.5        360   \n",
       "\n",
       "   Concrete compressive strength(MPa, megapascals)   \n",
       "0                                             79.99  \n",
       "1                                             61.89  \n",
       "2                                             40.27  \n",
       "3                                             41.05  \n",
       "4                                             44.30  "
      ]
     },
     "execution_count": 35,
     "metadata": {},
     "output_type": "execute_result"
    }
   ],
   "source": [
    "df.head()"
   ]
  },
  {
   "cell_type": "code",
   "execution_count": 36,
   "metadata": {},
   "outputs": [],
   "source": [
    "y=df['Concrete compressive strength(MPa, megapascals) '].copy()\n",
    "x=df.drop('Concrete compressive strength(MPa, megapascals) ', axis=1).copy()"
   ]
  },
  {
   "cell_type": "code",
   "execution_count": 37,
   "metadata": {},
   "outputs": [],
   "source": [
    "x_train,x_test,y_train,y_test=train_test_split(x,y,train_size=0.7,random_state=123)"
   ]
  },
  {
   "cell_type": "code",
   "execution_count": 38,
   "metadata": {},
   "outputs": [
    {
     "data": {
      "text/plain": [
       "StandardScaler()"
      ]
     },
     "execution_count": 38,
     "metadata": {},
     "output_type": "execute_result"
    }
   ],
   "source": [
    "scaler = StandardScaler()\n",
    "scaler.fit(x_train)"
   ]
  },
  {
   "cell_type": "code",
   "execution_count": 39,
   "metadata": {},
   "outputs": [],
   "source": [
    "x_train =pd.DataFrame(scaler.transform(x_train),columns=x_train.columns)\n",
    "x_test=pd.DataFrame(scaler.transform(x_test),columns=x_test.columns)"
   ]
  },
  {
   "cell_type": "code",
   "execution_count": 40,
   "metadata": {},
   "outputs": [],
   "source": [
    "part_x_train, x_val, part_y_train, y_val = train_test_split(x_train, y_train, test_size=0.2, random_state=2)"
   ]
  },
  {
   "cell_type": "code",
   "execution_count": 41,
   "metadata": {},
   "outputs": [],
   "source": [
    "model = Sequential()\n",
    "model.add(Dense(12, input_dim=8, activation= \"relu\"))\n",
    "model.add(Dense(10, activation= \"relu\"))\n",
    "model.add(Dense(8, activation= \"relu\"))\n",
    "model.add(Dense(6, activation= \"relu\"))\n",
    "model.add(Dense(1,activation=\"relu\"))\n",
    "model.compile(loss= \"mean_squared_error\" , optimizer=\"adam\", metrics=[\"acc\"])"
   ]
  },
  {
   "cell_type": "code",
   "execution_count": 42,
   "metadata": {},
   "outputs": [
    {
     "name": "stdout",
     "output_type": "stream",
     "text": [
      "Epoch 1/100\n",
      "5/5 [==============================] - 1s 55ms/step - loss: 1530.7173 - acc: 0.0000e+00 - val_loss: 1418.7378 - val_acc: 0.0000e+00\n",
      "Epoch 2/100\n",
      "5/5 [==============================] - 0s 11ms/step - loss: 1572.0659 - acc: 0.0000e+00 - val_loss: 1407.8933 - val_acc: 0.0000e+00\n",
      "Epoch 3/100\n",
      "5/5 [==============================] - 0s 11ms/step - loss: 1559.2191 - acc: 0.0000e+00 - val_loss: 1395.9365 - val_acc: 0.0000e+00\n",
      "Epoch 4/100\n",
      "5/5 [==============================] - 0s 11ms/step - loss: 1513.4849 - acc: 0.0000e+00 - val_loss: 1382.6676 - val_acc: 0.0000e+00\n",
      "Epoch 5/100\n",
      "5/5 [==============================] - 0s 11ms/step - loss: 1521.1290 - acc: 0.0000e+00 - val_loss: 1367.8124 - val_acc: 0.0000e+00\n",
      "Epoch 6/100\n",
      "5/5 [==============================] - 0s 11ms/step - loss: 1450.5681 - acc: 0.0000e+00 - val_loss: 1350.9457 - val_acc: 0.0000e+00\n",
      "Epoch 7/100\n",
      "5/5 [==============================] - 0s 12ms/step - loss: 1445.2718 - acc: 0.0000e+00 - val_loss: 1331.9581 - val_acc: 0.0000e+00\n",
      "Epoch 8/100\n",
      "5/5 [==============================] - 0s 12ms/step - loss: 1434.8186 - acc: 0.0000e+00 - val_loss: 1310.7891 - val_acc: 0.0000e+00\n",
      "Epoch 9/100\n",
      "5/5 [==============================] - 0s 12ms/step - loss: 1450.2711 - acc: 0.0000e+00 - val_loss: 1286.9104 - val_acc: 0.0000e+00\n",
      "Epoch 10/100\n",
      "5/5 [==============================] - 0s 12ms/step - loss: 1383.6665 - acc: 0.0000e+00 - val_loss: 1260.4960 - val_acc: 0.0000e+00\n",
      "Epoch 11/100\n",
      "5/5 [==============================] - 0s 11ms/step - loss: 1332.8338 - acc: 0.0000e+00 - val_loss: 1231.1697 - val_acc: 0.0000e+00\n",
      "Epoch 12/100\n",
      "5/5 [==============================] - 0s 11ms/step - loss: 1351.3441 - acc: 0.0000e+00 - val_loss: 1198.4921 - val_acc: 0.0000e+00\n",
      "Epoch 13/100\n",
      "5/5 [==============================] - 0s 10ms/step - loss: 1348.6390 - acc: 0.0000e+00 - val_loss: 1162.0283 - val_acc: 0.0000e+00\n",
      "Epoch 14/100\n",
      "5/5 [==============================] - 0s 11ms/step - loss: 1278.6843 - acc: 0.0000e+00 - val_loss: 1122.2650 - val_acc: 0.0000e+00\n",
      "Epoch 15/100\n",
      "5/5 [==============================] - 0s 11ms/step - loss: 1170.4426 - acc: 0.0000e+00 - val_loss: 1078.4235 - val_acc: 0.0000e+00\n",
      "Epoch 16/100\n",
      "5/5 [==============================] - 0s 11ms/step - loss: 1237.9183 - acc: 0.0000e+00 - val_loss: 1030.1771 - val_acc: 0.0000e+00\n",
      "Epoch 17/100\n",
      "5/5 [==============================] - 0s 12ms/step - loss: 1094.3743 - acc: 0.0000e+00 - val_loss: 978.0150 - val_acc: 0.0000e+00\n",
      "Epoch 18/100\n",
      "5/5 [==============================] - 0s 11ms/step - loss: 1110.9760 - acc: 0.0000e+00 - val_loss: 921.0080 - val_acc: 0.0000e+00\n",
      "Epoch 19/100\n",
      "5/5 [==============================] - 0s 11ms/step - loss: 976.8963 - acc: 0.0000e+00 - val_loss: 861.0367 - val_acc: 0.0000e+00\n",
      "Epoch 20/100\n",
      "5/5 [==============================] - 0s 11ms/step - loss: 955.5836 - acc: 0.0000e+00 - val_loss: 797.9979 - val_acc: 0.0000e+00\n",
      "Epoch 21/100\n",
      "5/5 [==============================] - 0s 12ms/step - loss: 886.2891 - acc: 0.0000e+00 - val_loss: 732.7780 - val_acc: 0.0000e+00\n",
      "Epoch 22/100\n",
      "5/5 [==============================] - 0s 11ms/step - loss: 795.0035 - acc: 0.0000e+00 - val_loss: 666.6611 - val_acc: 0.0000e+00\n",
      "Epoch 23/100\n",
      "5/5 [==============================] - 0s 12ms/step - loss: 750.9086 - acc: 0.0000e+00 - val_loss: 600.3901 - val_acc: 0.0000e+00\n",
      "Epoch 24/100\n",
      "5/5 [==============================] - 0s 11ms/step - loss: 669.8934 - acc: 0.0000e+00 - val_loss: 535.8539 - val_acc: 0.0000e+00\n",
      "Epoch 25/100\n",
      "5/5 [==============================] - 0s 11ms/step - loss: 607.2334 - acc: 0.0000e+00 - val_loss: 475.4342 - val_acc: 0.0000e+00\n",
      "Epoch 26/100\n",
      "5/5 [==============================] - 0s 11ms/step - loss: 560.9343 - acc: 0.0000e+00 - val_loss: 420.9438 - val_acc: 0.0000e+00\n",
      "Epoch 27/100\n",
      "5/5 [==============================] - 0s 12ms/step - loss: 505.4344 - acc: 0.0000e+00 - val_loss: 374.3551 - val_acc: 0.0000e+00\n",
      "Epoch 28/100\n",
      "5/5 [==============================] - 0s 11ms/step - loss: 453.3554 - acc: 0.0000e+00 - val_loss: 336.4377 - val_acc: 0.0000e+00\n",
      "Epoch 29/100\n",
      "5/5 [==============================] - 0s 11ms/step - loss: 390.6005 - acc: 0.0000e+00 - val_loss: 306.5899 - val_acc: 0.0000e+00\n",
      "Epoch 30/100\n",
      "5/5 [==============================] - 0s 11ms/step - loss: 388.0810 - acc: 0.0000e+00 - val_loss: 283.7093 - val_acc: 0.0000e+00\n",
      "Epoch 31/100\n",
      "5/5 [==============================] - 0s 11ms/step - loss: 384.6050 - acc: 0.0000e+00 - val_loss: 265.9205 - val_acc: 0.0000e+00\n",
      "Epoch 32/100\n",
      "5/5 [==============================] - 0s 11ms/step - loss: 352.8447 - acc: 0.0000e+00 - val_loss: 251.3801 - val_acc: 0.0000e+00\n",
      "Epoch 33/100\n",
      "5/5 [==============================] - 0s 11ms/step - loss: 325.7969 - acc: 0.0000e+00 - val_loss: 238.9270 - val_acc: 0.0000e+00\n",
      "Epoch 34/100\n",
      "5/5 [==============================] - 0s 12ms/step - loss: 307.2663 - acc: 0.0000e+00 - val_loss: 228.3239 - val_acc: 0.0000e+00\n",
      "Epoch 35/100\n",
      "5/5 [==============================] - 0s 11ms/step - loss: 309.1081 - acc: 0.0000e+00 - val_loss: 218.8767 - val_acc: 0.0000e+00\n",
      "Epoch 36/100\n",
      "5/5 [==============================] - 0s 11ms/step - loss: 302.4041 - acc: 0.0000e+00 - val_loss: 210.5619 - val_acc: 0.0000e+00\n",
      "Epoch 37/100\n",
      "5/5 [==============================] - 0s 11ms/step - loss: 275.7617 - acc: 0.0000e+00 - val_loss: 203.6586 - val_acc: 0.0000e+00\n",
      "Epoch 38/100\n",
      "5/5 [==============================] - 0s 11ms/step - loss: 282.1168 - acc: 0.0000e+00 - val_loss: 197.5969 - val_acc: 0.0000e+00\n",
      "Epoch 39/100\n",
      "5/5 [==============================] - 0s 11ms/step - loss: 273.0490 - acc: 0.0000e+00 - val_loss: 192.4341 - val_acc: 0.0000e+00\n",
      "Epoch 40/100\n",
      "5/5 [==============================] - 0s 11ms/step - loss: 264.3275 - acc: 0.0000e+00 - val_loss: 187.9403 - val_acc: 0.0000e+00\n",
      "Epoch 41/100\n",
      "5/5 [==============================] - 0s 11ms/step - loss: 268.7641 - acc: 0.0000e+00 - val_loss: 183.9873 - val_acc: 0.0000e+00\n",
      "Epoch 42/100\n",
      "5/5 [==============================] - ETA: 0s - loss: 234.2646 - acc: 0.0000e+0 - 0s 11ms/step - loss: 250.3724 - acc: 0.0000e+00 - val_loss: 180.5312 - val_acc: 0.0000e+00\n",
      "Epoch 43/100\n",
      "5/5 [==============================] - 0s 11ms/step - loss: 257.0218 - acc: 0.0000e+00 - val_loss: 177.2326 - val_acc: 0.0000e+00\n",
      "Epoch 44/100\n",
      "5/5 [==============================] - 0s 10ms/step - loss: 242.2590 - acc: 0.0000e+00 - val_loss: 174.3153 - val_acc: 0.0000e+00\n",
      "Epoch 45/100\n",
      "5/5 [==============================] - 0s 11ms/step - loss: 245.7989 - acc: 0.0000e+00 - val_loss: 171.8526 - val_acc: 0.0000e+00\n",
      "Epoch 46/100\n",
      "5/5 [==============================] - 0s 11ms/step - loss: 227.2803 - acc: 0.0000e+00 - val_loss: 169.5258 - val_acc: 0.0000e+00\n",
      "Epoch 47/100\n",
      "5/5 [==============================] - 0s 10ms/step - loss: 234.1703 - acc: 0.0000e+00 - val_loss: 167.3175 - val_acc: 0.0000e+00\n",
      "Epoch 48/100\n",
      "5/5 [==============================] - 0s 10ms/step - loss: 225.5812 - acc: 0.0000e+00 - val_loss: 165.3255 - val_acc: 0.0000e+00\n",
      "Epoch 49/100\n",
      "5/5 [==============================] - 0s 11ms/step - loss: 236.2835 - acc: 0.0000e+00 - val_loss: 163.4742 - val_acc: 0.0000e+00\n",
      "Epoch 50/100\n",
      "5/5 [==============================] - 0s 11ms/step - loss: 219.8086 - acc: 0.0000e+00 - val_loss: 161.6300 - val_acc: 0.0000e+00\n",
      "Epoch 51/100\n",
      "5/5 [==============================] - 0s 11ms/step - loss: 227.1442 - acc: 0.0000e+00 - val_loss: 159.9167 - val_acc: 0.0000e+00\n",
      "Epoch 52/100\n",
      "5/5 [==============================] - 0s 10ms/step - loss: 231.6281 - acc: 0.0000e+00 - val_loss: 158.2530 - val_acc: 0.0000e+00\n",
      "Epoch 53/100\n",
      "5/5 [==============================] - 0s 10ms/step - loss: 230.1853 - acc: 0.0000e+00 - val_loss: 156.7607 - val_acc: 0.0000e+00\n",
      "Epoch 54/100\n",
      "5/5 [==============================] - 0s 12ms/step - loss: 206.0536 - acc: 0.0000e+00 - val_loss: 155.3007 - val_acc: 0.0000e+00\n",
      "Epoch 55/100\n",
      "5/5 [==============================] - 0s 11ms/step - loss: 210.8358 - acc: 0.0000e+00 - val_loss: 154.0128 - val_acc: 0.0000e+00\n",
      "Epoch 56/100\n",
      "5/5 [==============================] - 0s 11ms/step - loss: 216.6413 - acc: 0.0000e+00 - val_loss: 153.0707 - val_acc: 0.0000e+00\n",
      "Epoch 57/100\n",
      "5/5 [==============================] - 0s 11ms/step - loss: 202.2562 - acc: 0.0000e+00 - val_loss: 151.6284 - val_acc: 0.0000e+00\n"
     ]
    },
    {
     "name": "stdout",
     "output_type": "stream",
     "text": [
      "Epoch 58/100\n",
      "5/5 [==============================] - 0s 11ms/step - loss: 205.7058 - acc: 0.0000e+00 - val_loss: 150.4203 - val_acc: 0.0000e+00\n",
      "Epoch 59/100\n",
      "5/5 [==============================] - 0s 11ms/step - loss: 199.1886 - acc: 0.0000e+00 - val_loss: 149.2755 - val_acc: 0.0000e+00\n",
      "Epoch 60/100\n",
      "5/5 [==============================] - 0s 11ms/step - loss: 193.9846 - acc: 0.0000e+00 - val_loss: 148.2655 - val_acc: 0.0000e+00\n",
      "Epoch 61/100\n",
      "5/5 [==============================] - 0s 11ms/step - loss: 201.2345 - acc: 0.0000e+00 - val_loss: 147.1468 - val_acc: 0.0000e+00\n",
      "Epoch 62/100\n",
      "5/5 [==============================] - 0s 11ms/step - loss: 202.2336 - acc: 0.0000e+00 - val_loss: 145.9833 - val_acc: 0.0000e+00\n",
      "Epoch 63/100\n",
      "5/5 [==============================] - 0s 10ms/step - loss: 191.7339 - acc: 0.0000e+00 - val_loss: 144.8976 - val_acc: 0.0000e+00\n",
      "Epoch 64/100\n",
      "5/5 [==============================] - 0s 11ms/step - loss: 196.6098 - acc: 0.0000e+00 - val_loss: 143.8604 - val_acc: 0.0000e+00\n",
      "Epoch 65/100\n",
      "5/5 [==============================] - 0s 11ms/step - loss: 197.6018 - acc: 0.0000e+00 - val_loss: 143.0806 - val_acc: 0.0000e+00\n",
      "Epoch 66/100\n",
      "5/5 [==============================] - 0s 12ms/step - loss: 188.5105 - acc: 0.0000e+00 - val_loss: 142.2242 - val_acc: 0.0000e+00\n",
      "Epoch 67/100\n",
      "5/5 [==============================] - 0s 11ms/step - loss: 191.3769 - acc: 0.0000e+00 - val_loss: 141.3329 - val_acc: 0.0000e+00\n",
      "Epoch 68/100\n",
      "5/5 [==============================] - 0s 12ms/step - loss: 189.6114 - acc: 0.0000e+00 - val_loss: 140.2592 - val_acc: 0.0000e+00\n",
      "Epoch 69/100\n",
      "5/5 [==============================] - 0s 11ms/step - loss: 182.0842 - acc: 0.0000e+00 - val_loss: 139.4456 - val_acc: 0.0000e+00\n",
      "Epoch 70/100\n",
      "5/5 [==============================] - 0s 12ms/step - loss: 182.1914 - acc: 0.0000e+00 - val_loss: 138.2627 - val_acc: 0.0000e+00\n",
      "Epoch 71/100\n",
      "5/5 [==============================] - 0s 11ms/step - loss: 183.2611 - acc: 0.0000e+00 - val_loss: 137.3042 - val_acc: 0.0000e+00\n",
      "Epoch 72/100\n",
      "5/5 [==============================] - 0s 11ms/step - loss: 174.2738 - acc: 0.0000e+00 - val_loss: 136.4518 - val_acc: 0.0000e+00\n",
      "Epoch 73/100\n",
      "5/5 [==============================] - 0s 10ms/step - loss: 177.2380 - acc: 0.0000e+00 - val_loss: 135.4712 - val_acc: 0.0000e+00\n",
      "Epoch 74/100\n",
      "5/5 [==============================] - 0s 11ms/step - loss: 178.6910 - acc: 0.0000e+00 - val_loss: 134.6048 - val_acc: 0.0000e+00\n",
      "Epoch 75/100\n",
      "5/5 [==============================] - 0s 11ms/step - loss: 176.7535 - acc: 0.0000e+00 - val_loss: 133.6971 - val_acc: 0.0000e+00\n",
      "Epoch 76/100\n",
      "5/5 [==============================] - 0s 11ms/step - loss: 170.6050 - acc: 0.0000e+00 - val_loss: 133.1401 - val_acc: 0.0000e+00\n",
      "Epoch 77/100\n",
      "5/5 [==============================] - 0s 10ms/step - loss: 171.5590 - acc: 0.0000e+00 - val_loss: 132.3890 - val_acc: 0.0000e+00\n",
      "Epoch 78/100\n",
      "5/5 [==============================] - 0s 10ms/step - loss: 168.7368 - acc: 0.0000e+00 - val_loss: 131.5953 - val_acc: 0.0000e+00\n",
      "Epoch 79/100\n",
      "5/5 [==============================] - 0s 11ms/step - loss: 168.4506 - acc: 0.0000e+00 - val_loss: 130.9686 - val_acc: 0.0000e+00\n",
      "Epoch 80/100\n",
      "5/5 [==============================] - 0s 10ms/step - loss: 168.4691 - acc: 0.0000e+00 - val_loss: 130.1457 - val_acc: 0.0000e+00\n",
      "Epoch 81/100\n",
      "5/5 [==============================] - 0s 10ms/step - loss: 166.4082 - acc: 0.0000e+00 - val_loss: 129.3137 - val_acc: 0.0000e+00\n",
      "Epoch 82/100\n",
      "5/5 [==============================] - 0s 11ms/step - loss: 159.8922 - acc: 0.0000e+00 - val_loss: 128.5305 - val_acc: 0.0000e+00\n",
      "Epoch 83/100\n",
      "5/5 [==============================] - 0s 11ms/step - loss: 158.6600 - acc: 0.0000e+00 - val_loss: 127.7953 - val_acc: 0.0000e+00\n",
      "Epoch 84/100\n",
      "5/5 [==============================] - 0s 10ms/step - loss: 168.8722 - acc: 0.0000e+00 - val_loss: 127.1463 - val_acc: 0.0000e+00\n",
      "Epoch 85/100\n",
      "5/5 [==============================] - 0s 11ms/step - loss: 165.2626 - acc: 0.0000e+00 - val_loss: 126.5333 - val_acc: 0.0000e+00\n",
      "Epoch 86/100\n",
      "5/5 [==============================] - 0s 11ms/step - loss: 165.0988 - acc: 0.0000e+00 - val_loss: 125.9685 - val_acc: 0.0000e+00\n",
      "Epoch 87/100\n",
      "5/5 [==============================] - 0s 11ms/step - loss: 154.7022 - acc: 0.0000e+00 - val_loss: 125.3656 - val_acc: 0.0000e+00\n",
      "Epoch 88/100\n",
      "5/5 [==============================] - 0s 10ms/step - loss: 162.8568 - acc: 0.0000e+00 - val_loss: 124.7629 - val_acc: 0.0000e+00\n",
      "Epoch 89/100\n",
      "5/5 [==============================] - 0s 11ms/step - loss: 159.2832 - acc: 0.0000e+00 - val_loss: 124.0984 - val_acc: 0.0000e+00\n",
      "Epoch 90/100\n",
      "5/5 [==============================] - 0s 10ms/step - loss: 156.7484 - acc: 0.0000e+00 - val_loss: 123.4921 - val_acc: 0.0000e+00\n",
      "Epoch 91/100\n",
      "5/5 [==============================] - 0s 10ms/step - loss: 156.1336 - acc: 0.0000e+00 - val_loss: 122.8363 - val_acc: 0.0000e+00\n",
      "Epoch 92/100\n",
      "5/5 [==============================] - 0s 11ms/step - loss: 156.9525 - acc: 0.0000e+00 - val_loss: 122.1984 - val_acc: 0.0000e+00\n",
      "Epoch 93/100\n",
      "5/5 [==============================] - 0s 11ms/step - loss: 153.2583 - acc: 0.0000e+00 - val_loss: 121.5546 - val_acc: 0.0000e+00\n",
      "Epoch 94/100\n",
      "5/5 [==============================] - 0s 11ms/step - loss: 155.1138 - acc: 0.0000e+00 - val_loss: 121.0973 - val_acc: 0.0000e+00\n",
      "Epoch 95/100\n",
      "5/5 [==============================] - 0s 11ms/step - loss: 142.2048 - acc: 0.0000e+00 - val_loss: 120.6235 - val_acc: 0.0000e+00\n",
      "Epoch 96/100\n",
      "5/5 [==============================] - 0s 10ms/step - loss: 160.6508 - acc: 0.0000e+00 - val_loss: 120.1488 - val_acc: 0.0000e+00\n",
      "Epoch 97/100\n",
      "5/5 [==============================] - 0s 11ms/step - loss: 158.6860 - acc: 0.0000e+00 - val_loss: 119.5659 - val_acc: 0.0000e+00\n",
      "Epoch 98/100\n",
      "5/5 [==============================] - 0s 11ms/step - loss: 160.1580 - acc: 0.0000e+00 - val_loss: 119.0567 - val_acc: 0.0000e+00\n",
      "Epoch 99/100\n",
      "5/5 [==============================] - 0s 11ms/step - loss: 152.4564 - acc: 0.0000e+00 - val_loss: 118.6154 - val_acc: 0.0000e+00\n",
      "Epoch 100/100\n",
      "5/5 [==============================] - 0s 10ms/step - loss: 146.6283 - acc: 0.0000e+00 - val_loss: 118.0908 - val_acc: 0.0000e+00\n"
     ]
    },
    {
     "data": {
      "text/plain": [
       "<tensorflow.python.keras.callbacks.History at 0x222acc2adf0>"
      ]
     },
     "execution_count": 42,
     "metadata": {},
     "output_type": "execute_result"
    }
   ],
   "source": [
    "model.fit(part_x_train,part_y_train,epochs=100,validation_data=(x_val,y_val),batch_size=128)"
   ]
  },
  {
   "cell_type": "code",
   "execution_count": 43,
   "metadata": {},
   "outputs": [
    {
     "name": "stdout",
     "output_type": "stream",
     "text": [
      "10/10 [==============================] - 0s 776us/step - loss: 145.0508 - acc: 0.0000e+00\n"
     ]
    },
    {
     "data": {
      "text/plain": [
       "[145.05075073242188, 0.0]"
      ]
     },
     "execution_count": 43,
     "metadata": {},
     "output_type": "execute_result"
    }
   ],
   "source": [
    "model.evaluate(x_test,y_test)"
   ]
  },
  {
   "cell_type": "code",
   "execution_count": 44,
   "metadata": {},
   "outputs": [
    {
     "name": "stdout",
     "output_type": "stream",
     "text": [
      "12.32297269243265\n"
     ]
    }
   ],
   "source": [
    "pred_train= model.predict(part_x_train)\n",
    "print(np.sqrt(mean_squared_error(part_y_train,pred_train)))"
   ]
  },
  {
   "cell_type": "code",
   "execution_count": 45,
   "metadata": {},
   "outputs": [
    {
     "data": {
      "text/plain": [
       "10953.241"
      ]
     },
     "execution_count": 45,
     "metadata": {},
     "output_type": "execute_result"
    }
   ],
   "source": [
    "model.predict(x_test).sum()"
   ]
  },
  {
   "cell_type": "code",
   "execution_count": null,
   "metadata": {},
   "outputs": [],
   "source": []
  }
 ],
 "metadata": {
  "kernelspec": {
   "display_name": "Python 3",
   "language": "python",
   "name": "python3"
  },
  "language_info": {
   "codemirror_mode": {
    "name": "ipython",
    "version": 3
   },
   "file_extension": ".py",
   "mimetype": "text/x-python",
   "name": "python",
   "nbconvert_exporter": "python",
   "pygments_lexer": "ipython3",
   "version": "3.8.3"
  }
 },
 "nbformat": 4,
 "nbformat_minor": 2
}
