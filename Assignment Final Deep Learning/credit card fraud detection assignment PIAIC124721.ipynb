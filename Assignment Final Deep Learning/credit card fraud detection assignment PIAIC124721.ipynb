{
 "cells": [
  {
   "cell_type": "markdown",
   "metadata": {},
   "source": [
    "# Credit Card Fraud Detection::"
   ]
  },
  {
   "cell_type": "markdown",
   "metadata": {},
   "source": [
    "Download dataset from this link:\n",
    "\n",
    "https://www.kaggle.com/mlg-ulb/creditcardfraud"
   ]
  },
  {
   "cell_type": "markdown",
   "metadata": {},
   "source": [
    "The datasets contains transactions made by credit cards in September 2013 by european cardholders.\n",
    "This dataset presents transactions that occurred in two days, where we have 492 frauds out of 284,807 transactions. The dataset is highly unbalanced, the positive class (frauds) account for 0.172% of all transactions.\n",
    "\n",
    "It contains only numerical input variables which are the result of a PCA transformation. Unfortunately, due to confidentiality issues, we cannot provide the original features and more background information about the data. Features V1, V2, … V28 are the principal components obtained with PCA, the only features which have not been transformed with PCA are 'Time' and 'Amount'. Feature 'Time' contains the seconds elapsed between each transaction and the first transaction in the dataset. The feature 'Amount' is the transaction Amount, this feature can be used for example-dependant cost-senstive learning. \n",
    "\n",
    "\n",
    "### Feature 'Class' is the response variable and it takes value 1 in case of fraud and 0 otherwise."
   ]
  },
  {
   "cell_type": "markdown",
   "metadata": {},
   "source": [
    "# WORKFLOW :"
   ]
  },
  {
   "cell_type": "markdown",
   "metadata": {},
   "source": [
    "1.Load Data\n",
    "\n",
    "2.Check Missing Values ( If Exist ; Fill each record with mean of its feature )\n",
    "\n",
    "3.Standardized the Input Variables. \n",
    "\n",
    "4.Split into 50% Training(Samples,Labels) , 30% Test(Samples,Labels) and 20% Validation Data(Samples,Labels).\n",
    "\n",
    "5.Model : input Layer (No. of features ), 3 hidden layers including 10,8,6 unit & Output Layer with activation function relu/tanh (check by experiment).\n",
    "\n",
    "6.Compilation Step (Note : Its a Binary problem , select loss , metrics according to it)\n",
    "\n",
    "7.Train the Model with Epochs (100).\n",
    "\n",
    "8.If the model gets overfit tune your model by changing the units , No. of layers , epochs , add dropout layer or add Regularizer according to the need .\n",
    "\n",
    "9.Prediction should be > 92%\n",
    "10.Evaluation Step\n",
    "11Prediction\n"
   ]
  },
  {
   "cell_type": "markdown",
   "metadata": {},
   "source": [
    "# Task::"
   ]
  },
  {
   "cell_type": "markdown",
   "metadata": {},
   "source": [
    "## Identify fraudulent credit card transactions."
   ]
  },
  {
   "cell_type": "code",
   "execution_count": 47,
   "metadata": {},
   "outputs": [],
   "source": [
    "import pandas as pd\n",
    "import numpy as np\n",
    "import tensorflow as tf\n",
    "from tensorflow import keras\n",
    "from tensorflow.keras import layers\n",
    "from tensorflow.keras import models\n",
    "from tensorflow.keras import regularizers\n",
    "from sklearn.model_selection import train_test_split\n",
    "from sklearn.preprocessing import StandardScaler"
   ]
  },
  {
   "cell_type": "code",
   "execution_count": 48,
   "metadata": {},
   "outputs": [],
   "source": [
    "df = pd.read_csv('datasets/credit card/creditcard.csv')"
   ]
  },
  {
   "cell_type": "code",
   "execution_count": 49,
   "metadata": {},
   "outputs": [
    {
     "data": {
      "text/html": [
       "<div>\n",
       "<style scoped>\n",
       "    .dataframe tbody tr th:only-of-type {\n",
       "        vertical-align: middle;\n",
       "    }\n",
       "\n",
       "    .dataframe tbody tr th {\n",
       "        vertical-align: top;\n",
       "    }\n",
       "\n",
       "    .dataframe thead th {\n",
       "        text-align: right;\n",
       "    }\n",
       "</style>\n",
       "<table border=\"1\" class=\"dataframe\">\n",
       "  <thead>\n",
       "    <tr style=\"text-align: right;\">\n",
       "      <th></th>\n",
       "      <th>Time</th>\n",
       "      <th>V1</th>\n",
       "      <th>V2</th>\n",
       "      <th>V3</th>\n",
       "      <th>V4</th>\n",
       "      <th>V5</th>\n",
       "      <th>V6</th>\n",
       "      <th>V7</th>\n",
       "      <th>V8</th>\n",
       "      <th>V9</th>\n",
       "      <th>...</th>\n",
       "      <th>V21</th>\n",
       "      <th>V22</th>\n",
       "      <th>V23</th>\n",
       "      <th>V24</th>\n",
       "      <th>V25</th>\n",
       "      <th>V26</th>\n",
       "      <th>V27</th>\n",
       "      <th>V28</th>\n",
       "      <th>Amount</th>\n",
       "      <th>Class</th>\n",
       "    </tr>\n",
       "  </thead>\n",
       "  <tbody>\n",
       "    <tr>\n",
       "      <th>0</th>\n",
       "      <td>0.0</td>\n",
       "      <td>-1.359807</td>\n",
       "      <td>-0.072781</td>\n",
       "      <td>2.536347</td>\n",
       "      <td>1.378155</td>\n",
       "      <td>-0.338321</td>\n",
       "      <td>0.462388</td>\n",
       "      <td>0.239599</td>\n",
       "      <td>0.098698</td>\n",
       "      <td>0.363787</td>\n",
       "      <td>...</td>\n",
       "      <td>-0.018307</td>\n",
       "      <td>0.277838</td>\n",
       "      <td>-0.110474</td>\n",
       "      <td>0.066928</td>\n",
       "      <td>0.128539</td>\n",
       "      <td>-0.189115</td>\n",
       "      <td>0.133558</td>\n",
       "      <td>-0.021053</td>\n",
       "      <td>149.62</td>\n",
       "      <td>0</td>\n",
       "    </tr>\n",
       "    <tr>\n",
       "      <th>1</th>\n",
       "      <td>0.0</td>\n",
       "      <td>1.191857</td>\n",
       "      <td>0.266151</td>\n",
       "      <td>0.166480</td>\n",
       "      <td>0.448154</td>\n",
       "      <td>0.060018</td>\n",
       "      <td>-0.082361</td>\n",
       "      <td>-0.078803</td>\n",
       "      <td>0.085102</td>\n",
       "      <td>-0.255425</td>\n",
       "      <td>...</td>\n",
       "      <td>-0.225775</td>\n",
       "      <td>-0.638672</td>\n",
       "      <td>0.101288</td>\n",
       "      <td>-0.339846</td>\n",
       "      <td>0.167170</td>\n",
       "      <td>0.125895</td>\n",
       "      <td>-0.008983</td>\n",
       "      <td>0.014724</td>\n",
       "      <td>2.69</td>\n",
       "      <td>0</td>\n",
       "    </tr>\n",
       "    <tr>\n",
       "      <th>2</th>\n",
       "      <td>1.0</td>\n",
       "      <td>-1.358354</td>\n",
       "      <td>-1.340163</td>\n",
       "      <td>1.773209</td>\n",
       "      <td>0.379780</td>\n",
       "      <td>-0.503198</td>\n",
       "      <td>1.800499</td>\n",
       "      <td>0.791461</td>\n",
       "      <td>0.247676</td>\n",
       "      <td>-1.514654</td>\n",
       "      <td>...</td>\n",
       "      <td>0.247998</td>\n",
       "      <td>0.771679</td>\n",
       "      <td>0.909412</td>\n",
       "      <td>-0.689281</td>\n",
       "      <td>-0.327642</td>\n",
       "      <td>-0.139097</td>\n",
       "      <td>-0.055353</td>\n",
       "      <td>-0.059752</td>\n",
       "      <td>378.66</td>\n",
       "      <td>0</td>\n",
       "    </tr>\n",
       "    <tr>\n",
       "      <th>3</th>\n",
       "      <td>1.0</td>\n",
       "      <td>-0.966272</td>\n",
       "      <td>-0.185226</td>\n",
       "      <td>1.792993</td>\n",
       "      <td>-0.863291</td>\n",
       "      <td>-0.010309</td>\n",
       "      <td>1.247203</td>\n",
       "      <td>0.237609</td>\n",
       "      <td>0.377436</td>\n",
       "      <td>-1.387024</td>\n",
       "      <td>...</td>\n",
       "      <td>-0.108300</td>\n",
       "      <td>0.005274</td>\n",
       "      <td>-0.190321</td>\n",
       "      <td>-1.175575</td>\n",
       "      <td>0.647376</td>\n",
       "      <td>-0.221929</td>\n",
       "      <td>0.062723</td>\n",
       "      <td>0.061458</td>\n",
       "      <td>123.50</td>\n",
       "      <td>0</td>\n",
       "    </tr>\n",
       "    <tr>\n",
       "      <th>4</th>\n",
       "      <td>2.0</td>\n",
       "      <td>-1.158233</td>\n",
       "      <td>0.877737</td>\n",
       "      <td>1.548718</td>\n",
       "      <td>0.403034</td>\n",
       "      <td>-0.407193</td>\n",
       "      <td>0.095921</td>\n",
       "      <td>0.592941</td>\n",
       "      <td>-0.270533</td>\n",
       "      <td>0.817739</td>\n",
       "      <td>...</td>\n",
       "      <td>-0.009431</td>\n",
       "      <td>0.798278</td>\n",
       "      <td>-0.137458</td>\n",
       "      <td>0.141267</td>\n",
       "      <td>-0.206010</td>\n",
       "      <td>0.502292</td>\n",
       "      <td>0.219422</td>\n",
       "      <td>0.215153</td>\n",
       "      <td>69.99</td>\n",
       "      <td>0</td>\n",
       "    </tr>\n",
       "  </tbody>\n",
       "</table>\n",
       "<p>5 rows × 31 columns</p>\n",
       "</div>"
      ],
      "text/plain": [
       "   Time        V1        V2        V3        V4        V5        V6        V7  \\\n",
       "0   0.0 -1.359807 -0.072781  2.536347  1.378155 -0.338321  0.462388  0.239599   \n",
       "1   0.0  1.191857  0.266151  0.166480  0.448154  0.060018 -0.082361 -0.078803   \n",
       "2   1.0 -1.358354 -1.340163  1.773209  0.379780 -0.503198  1.800499  0.791461   \n",
       "3   1.0 -0.966272 -0.185226  1.792993 -0.863291 -0.010309  1.247203  0.237609   \n",
       "4   2.0 -1.158233  0.877737  1.548718  0.403034 -0.407193  0.095921  0.592941   \n",
       "\n",
       "         V8        V9  ...       V21       V22       V23       V24       V25  \\\n",
       "0  0.098698  0.363787  ... -0.018307  0.277838 -0.110474  0.066928  0.128539   \n",
       "1  0.085102 -0.255425  ... -0.225775 -0.638672  0.101288 -0.339846  0.167170   \n",
       "2  0.247676 -1.514654  ...  0.247998  0.771679  0.909412 -0.689281 -0.327642   \n",
       "3  0.377436 -1.387024  ... -0.108300  0.005274 -0.190321 -1.175575  0.647376   \n",
       "4 -0.270533  0.817739  ... -0.009431  0.798278 -0.137458  0.141267 -0.206010   \n",
       "\n",
       "        V26       V27       V28  Amount  Class  \n",
       "0 -0.189115  0.133558 -0.021053  149.62      0  \n",
       "1  0.125895 -0.008983  0.014724    2.69      0  \n",
       "2 -0.139097 -0.055353 -0.059752  378.66      0  \n",
       "3 -0.221929  0.062723  0.061458  123.50      0  \n",
       "4  0.502292  0.219422  0.215153   69.99      0  \n",
       "\n",
       "[5 rows x 31 columns]"
      ]
     },
     "execution_count": 49,
     "metadata": {},
     "output_type": "execute_result"
    }
   ],
   "source": [
    "df.head()"
   ]
  },
  {
   "cell_type": "code",
   "execution_count": 50,
   "metadata": {},
   "outputs": [
    {
     "name": "stdout",
     "output_type": "stream",
     "text": [
      "<class 'pandas.core.frame.DataFrame'>\n",
      "RangeIndex: 284807 entries, 0 to 284806\n",
      "Data columns (total 31 columns):\n",
      " #   Column  Non-Null Count   Dtype  \n",
      "---  ------  --------------   -----  \n",
      " 0   Time    284807 non-null  float64\n",
      " 1   V1      284807 non-null  float64\n",
      " 2   V2      284807 non-null  float64\n",
      " 3   V3      284807 non-null  float64\n",
      " 4   V4      284807 non-null  float64\n",
      " 5   V5      284807 non-null  float64\n",
      " 6   V6      284807 non-null  float64\n",
      " 7   V7      284807 non-null  float64\n",
      " 8   V8      284807 non-null  float64\n",
      " 9   V9      284807 non-null  float64\n",
      " 10  V10     284807 non-null  float64\n",
      " 11  V11     284807 non-null  float64\n",
      " 12  V12     284807 non-null  float64\n",
      " 13  V13     284807 non-null  float64\n",
      " 14  V14     284807 non-null  float64\n",
      " 15  V15     284807 non-null  float64\n",
      " 16  V16     284807 non-null  float64\n",
      " 17  V17     284807 non-null  float64\n",
      " 18  V18     284807 non-null  float64\n",
      " 19  V19     284807 non-null  float64\n",
      " 20  V20     284807 non-null  float64\n",
      " 21  V21     284807 non-null  float64\n",
      " 22  V22     284807 non-null  float64\n",
      " 23  V23     284807 non-null  float64\n",
      " 24  V24     284807 non-null  float64\n",
      " 25  V25     284807 non-null  float64\n",
      " 26  V26     284807 non-null  float64\n",
      " 27  V27     284807 non-null  float64\n",
      " 28  V28     284807 non-null  float64\n",
      " 29  Amount  284807 non-null  float64\n",
      " 30  Class   284807 non-null  int64  \n",
      "dtypes: float64(30), int64(1)\n",
      "memory usage: 67.4 MB\n"
     ]
    }
   ],
   "source": [
    "df.info()"
   ]
  },
  {
   "cell_type": "code",
   "execution_count": 51,
   "metadata": {},
   "outputs": [
    {
     "data": {
      "text/plain": [
       "Time      0\n",
       "V1        0\n",
       "V2        0\n",
       "V3        0\n",
       "V4        0\n",
       "V5        0\n",
       "V6        0\n",
       "V7        0\n",
       "V8        0\n",
       "V9        0\n",
       "V10       0\n",
       "V11       0\n",
       "V12       0\n",
       "V13       0\n",
       "V14       0\n",
       "V15       0\n",
       "V16       0\n",
       "V17       0\n",
       "V18       0\n",
       "V19       0\n",
       "V20       0\n",
       "V21       0\n",
       "V22       0\n",
       "V23       0\n",
       "V24       0\n",
       "V25       0\n",
       "V26       0\n",
       "V27       0\n",
       "V28       0\n",
       "Amount    0\n",
       "Class     0\n",
       "dtype: int64"
      ]
     },
     "execution_count": 51,
     "metadata": {},
     "output_type": "execute_result"
    }
   ],
   "source": [
    "df.isnull().sum()"
   ]
  },
  {
   "cell_type": "code",
   "execution_count": 52,
   "metadata": {},
   "outputs": [
    {
     "data": {
      "text/plain": [
       "Index(['Time', 'V1', 'V2', 'V3', 'V4', 'V5', 'V6', 'V7', 'V8', 'V9', 'V10',\n",
       "       'V11', 'V12', 'V13', 'V14', 'V15', 'V16', 'V17', 'V18', 'V19', 'V20',\n",
       "       'V21', 'V22', 'V23', 'V24', 'V25', 'V26', 'V27', 'V28', 'Amount',\n",
       "       'Class'],\n",
       "      dtype='object')"
      ]
     },
     "execution_count": 52,
     "metadata": {},
     "output_type": "execute_result"
    }
   ],
   "source": [
    "df.columns"
   ]
  },
  {
   "cell_type": "code",
   "execution_count": 53,
   "metadata": {},
   "outputs": [
    {
     "data": {
      "text/html": [
       "<div>\n",
       "<style scoped>\n",
       "    .dataframe tbody tr th:only-of-type {\n",
       "        vertical-align: middle;\n",
       "    }\n",
       "\n",
       "    .dataframe tbody tr th {\n",
       "        vertical-align: top;\n",
       "    }\n",
       "\n",
       "    .dataframe thead th {\n",
       "        text-align: right;\n",
       "    }\n",
       "</style>\n",
       "<table border=\"1\" class=\"dataframe\">\n",
       "  <thead>\n",
       "    <tr style=\"text-align: right;\">\n",
       "      <th></th>\n",
       "      <th>Time</th>\n",
       "      <th>V1</th>\n",
       "      <th>V2</th>\n",
       "      <th>V3</th>\n",
       "      <th>V4</th>\n",
       "      <th>V5</th>\n",
       "      <th>V6</th>\n",
       "      <th>V7</th>\n",
       "      <th>V8</th>\n",
       "      <th>V9</th>\n",
       "      <th>...</th>\n",
       "      <th>V21</th>\n",
       "      <th>V22</th>\n",
       "      <th>V23</th>\n",
       "      <th>V24</th>\n",
       "      <th>V25</th>\n",
       "      <th>V26</th>\n",
       "      <th>V27</th>\n",
       "      <th>V28</th>\n",
       "      <th>Amount</th>\n",
       "      <th>Class</th>\n",
       "    </tr>\n",
       "  </thead>\n",
       "  <tbody>\n",
       "    <tr>\n",
       "      <th>count</th>\n",
       "      <td>284807.000000</td>\n",
       "      <td>2.848070e+05</td>\n",
       "      <td>2.848070e+05</td>\n",
       "      <td>2.848070e+05</td>\n",
       "      <td>2.848070e+05</td>\n",
       "      <td>2.848070e+05</td>\n",
       "      <td>2.848070e+05</td>\n",
       "      <td>2.848070e+05</td>\n",
       "      <td>2.848070e+05</td>\n",
       "      <td>2.848070e+05</td>\n",
       "      <td>...</td>\n",
       "      <td>2.848070e+05</td>\n",
       "      <td>2.848070e+05</td>\n",
       "      <td>2.848070e+05</td>\n",
       "      <td>2.848070e+05</td>\n",
       "      <td>2.848070e+05</td>\n",
       "      <td>2.848070e+05</td>\n",
       "      <td>2.848070e+05</td>\n",
       "      <td>2.848070e+05</td>\n",
       "      <td>284807.000000</td>\n",
       "      <td>284807.000000</td>\n",
       "    </tr>\n",
       "    <tr>\n",
       "      <th>mean</th>\n",
       "      <td>94813.859575</td>\n",
       "      <td>3.919560e-15</td>\n",
       "      <td>5.688174e-16</td>\n",
       "      <td>-8.769071e-15</td>\n",
       "      <td>2.782312e-15</td>\n",
       "      <td>-1.552563e-15</td>\n",
       "      <td>2.010663e-15</td>\n",
       "      <td>-1.694249e-15</td>\n",
       "      <td>-1.927028e-16</td>\n",
       "      <td>-3.137024e-15</td>\n",
       "      <td>...</td>\n",
       "      <td>1.537294e-16</td>\n",
       "      <td>7.959909e-16</td>\n",
       "      <td>5.367590e-16</td>\n",
       "      <td>4.458112e-15</td>\n",
       "      <td>1.453003e-15</td>\n",
       "      <td>1.699104e-15</td>\n",
       "      <td>-3.660161e-16</td>\n",
       "      <td>-1.206049e-16</td>\n",
       "      <td>88.349619</td>\n",
       "      <td>0.001727</td>\n",
       "    </tr>\n",
       "    <tr>\n",
       "      <th>std</th>\n",
       "      <td>47488.145955</td>\n",
       "      <td>1.958696e+00</td>\n",
       "      <td>1.651309e+00</td>\n",
       "      <td>1.516255e+00</td>\n",
       "      <td>1.415869e+00</td>\n",
       "      <td>1.380247e+00</td>\n",
       "      <td>1.332271e+00</td>\n",
       "      <td>1.237094e+00</td>\n",
       "      <td>1.194353e+00</td>\n",
       "      <td>1.098632e+00</td>\n",
       "      <td>...</td>\n",
       "      <td>7.345240e-01</td>\n",
       "      <td>7.257016e-01</td>\n",
       "      <td>6.244603e-01</td>\n",
       "      <td>6.056471e-01</td>\n",
       "      <td>5.212781e-01</td>\n",
       "      <td>4.822270e-01</td>\n",
       "      <td>4.036325e-01</td>\n",
       "      <td>3.300833e-01</td>\n",
       "      <td>250.120109</td>\n",
       "      <td>0.041527</td>\n",
       "    </tr>\n",
       "    <tr>\n",
       "      <th>min</th>\n",
       "      <td>0.000000</td>\n",
       "      <td>-5.640751e+01</td>\n",
       "      <td>-7.271573e+01</td>\n",
       "      <td>-4.832559e+01</td>\n",
       "      <td>-5.683171e+00</td>\n",
       "      <td>-1.137433e+02</td>\n",
       "      <td>-2.616051e+01</td>\n",
       "      <td>-4.355724e+01</td>\n",
       "      <td>-7.321672e+01</td>\n",
       "      <td>-1.343407e+01</td>\n",
       "      <td>...</td>\n",
       "      <td>-3.483038e+01</td>\n",
       "      <td>-1.093314e+01</td>\n",
       "      <td>-4.480774e+01</td>\n",
       "      <td>-2.836627e+00</td>\n",
       "      <td>-1.029540e+01</td>\n",
       "      <td>-2.604551e+00</td>\n",
       "      <td>-2.256568e+01</td>\n",
       "      <td>-1.543008e+01</td>\n",
       "      <td>0.000000</td>\n",
       "      <td>0.000000</td>\n",
       "    </tr>\n",
       "    <tr>\n",
       "      <th>25%</th>\n",
       "      <td>54201.500000</td>\n",
       "      <td>-9.203734e-01</td>\n",
       "      <td>-5.985499e-01</td>\n",
       "      <td>-8.903648e-01</td>\n",
       "      <td>-8.486401e-01</td>\n",
       "      <td>-6.915971e-01</td>\n",
       "      <td>-7.682956e-01</td>\n",
       "      <td>-5.540759e-01</td>\n",
       "      <td>-2.086297e-01</td>\n",
       "      <td>-6.430976e-01</td>\n",
       "      <td>...</td>\n",
       "      <td>-2.283949e-01</td>\n",
       "      <td>-5.423504e-01</td>\n",
       "      <td>-1.618463e-01</td>\n",
       "      <td>-3.545861e-01</td>\n",
       "      <td>-3.171451e-01</td>\n",
       "      <td>-3.269839e-01</td>\n",
       "      <td>-7.083953e-02</td>\n",
       "      <td>-5.295979e-02</td>\n",
       "      <td>5.600000</td>\n",
       "      <td>0.000000</td>\n",
       "    </tr>\n",
       "    <tr>\n",
       "      <th>50%</th>\n",
       "      <td>84692.000000</td>\n",
       "      <td>1.810880e-02</td>\n",
       "      <td>6.548556e-02</td>\n",
       "      <td>1.798463e-01</td>\n",
       "      <td>-1.984653e-02</td>\n",
       "      <td>-5.433583e-02</td>\n",
       "      <td>-2.741871e-01</td>\n",
       "      <td>4.010308e-02</td>\n",
       "      <td>2.235804e-02</td>\n",
       "      <td>-5.142873e-02</td>\n",
       "      <td>...</td>\n",
       "      <td>-2.945017e-02</td>\n",
       "      <td>6.781943e-03</td>\n",
       "      <td>-1.119293e-02</td>\n",
       "      <td>4.097606e-02</td>\n",
       "      <td>1.659350e-02</td>\n",
       "      <td>-5.213911e-02</td>\n",
       "      <td>1.342146e-03</td>\n",
       "      <td>1.124383e-02</td>\n",
       "      <td>22.000000</td>\n",
       "      <td>0.000000</td>\n",
       "    </tr>\n",
       "    <tr>\n",
       "      <th>75%</th>\n",
       "      <td>139320.500000</td>\n",
       "      <td>1.315642e+00</td>\n",
       "      <td>8.037239e-01</td>\n",
       "      <td>1.027196e+00</td>\n",
       "      <td>7.433413e-01</td>\n",
       "      <td>6.119264e-01</td>\n",
       "      <td>3.985649e-01</td>\n",
       "      <td>5.704361e-01</td>\n",
       "      <td>3.273459e-01</td>\n",
       "      <td>5.971390e-01</td>\n",
       "      <td>...</td>\n",
       "      <td>1.863772e-01</td>\n",
       "      <td>5.285536e-01</td>\n",
       "      <td>1.476421e-01</td>\n",
       "      <td>4.395266e-01</td>\n",
       "      <td>3.507156e-01</td>\n",
       "      <td>2.409522e-01</td>\n",
       "      <td>9.104512e-02</td>\n",
       "      <td>7.827995e-02</td>\n",
       "      <td>77.165000</td>\n",
       "      <td>0.000000</td>\n",
       "    </tr>\n",
       "    <tr>\n",
       "      <th>max</th>\n",
       "      <td>172792.000000</td>\n",
       "      <td>2.454930e+00</td>\n",
       "      <td>2.205773e+01</td>\n",
       "      <td>9.382558e+00</td>\n",
       "      <td>1.687534e+01</td>\n",
       "      <td>3.480167e+01</td>\n",
       "      <td>7.330163e+01</td>\n",
       "      <td>1.205895e+02</td>\n",
       "      <td>2.000721e+01</td>\n",
       "      <td>1.559499e+01</td>\n",
       "      <td>...</td>\n",
       "      <td>2.720284e+01</td>\n",
       "      <td>1.050309e+01</td>\n",
       "      <td>2.252841e+01</td>\n",
       "      <td>4.584549e+00</td>\n",
       "      <td>7.519589e+00</td>\n",
       "      <td>3.517346e+00</td>\n",
       "      <td>3.161220e+01</td>\n",
       "      <td>3.384781e+01</td>\n",
       "      <td>25691.160000</td>\n",
       "      <td>1.000000</td>\n",
       "    </tr>\n",
       "  </tbody>\n",
       "</table>\n",
       "<p>8 rows × 31 columns</p>\n",
       "</div>"
      ],
      "text/plain": [
       "                Time            V1            V2            V3            V4  \\\n",
       "count  284807.000000  2.848070e+05  2.848070e+05  2.848070e+05  2.848070e+05   \n",
       "mean    94813.859575  3.919560e-15  5.688174e-16 -8.769071e-15  2.782312e-15   \n",
       "std     47488.145955  1.958696e+00  1.651309e+00  1.516255e+00  1.415869e+00   \n",
       "min         0.000000 -5.640751e+01 -7.271573e+01 -4.832559e+01 -5.683171e+00   \n",
       "25%     54201.500000 -9.203734e-01 -5.985499e-01 -8.903648e-01 -8.486401e-01   \n",
       "50%     84692.000000  1.810880e-02  6.548556e-02  1.798463e-01 -1.984653e-02   \n",
       "75%    139320.500000  1.315642e+00  8.037239e-01  1.027196e+00  7.433413e-01   \n",
       "max    172792.000000  2.454930e+00  2.205773e+01  9.382558e+00  1.687534e+01   \n",
       "\n",
       "                 V5            V6            V7            V8            V9  \\\n",
       "count  2.848070e+05  2.848070e+05  2.848070e+05  2.848070e+05  2.848070e+05   \n",
       "mean  -1.552563e-15  2.010663e-15 -1.694249e-15 -1.927028e-16 -3.137024e-15   \n",
       "std    1.380247e+00  1.332271e+00  1.237094e+00  1.194353e+00  1.098632e+00   \n",
       "min   -1.137433e+02 -2.616051e+01 -4.355724e+01 -7.321672e+01 -1.343407e+01   \n",
       "25%   -6.915971e-01 -7.682956e-01 -5.540759e-01 -2.086297e-01 -6.430976e-01   \n",
       "50%   -5.433583e-02 -2.741871e-01  4.010308e-02  2.235804e-02 -5.142873e-02   \n",
       "75%    6.119264e-01  3.985649e-01  5.704361e-01  3.273459e-01  5.971390e-01   \n",
       "max    3.480167e+01  7.330163e+01  1.205895e+02  2.000721e+01  1.559499e+01   \n",
       "\n",
       "       ...           V21           V22           V23           V24  \\\n",
       "count  ...  2.848070e+05  2.848070e+05  2.848070e+05  2.848070e+05   \n",
       "mean   ...  1.537294e-16  7.959909e-16  5.367590e-16  4.458112e-15   \n",
       "std    ...  7.345240e-01  7.257016e-01  6.244603e-01  6.056471e-01   \n",
       "min    ... -3.483038e+01 -1.093314e+01 -4.480774e+01 -2.836627e+00   \n",
       "25%    ... -2.283949e-01 -5.423504e-01 -1.618463e-01 -3.545861e-01   \n",
       "50%    ... -2.945017e-02  6.781943e-03 -1.119293e-02  4.097606e-02   \n",
       "75%    ...  1.863772e-01  5.285536e-01  1.476421e-01  4.395266e-01   \n",
       "max    ...  2.720284e+01  1.050309e+01  2.252841e+01  4.584549e+00   \n",
       "\n",
       "                V25           V26           V27           V28         Amount  \\\n",
       "count  2.848070e+05  2.848070e+05  2.848070e+05  2.848070e+05  284807.000000   \n",
       "mean   1.453003e-15  1.699104e-15 -3.660161e-16 -1.206049e-16      88.349619   \n",
       "std    5.212781e-01  4.822270e-01  4.036325e-01  3.300833e-01     250.120109   \n",
       "min   -1.029540e+01 -2.604551e+00 -2.256568e+01 -1.543008e+01       0.000000   \n",
       "25%   -3.171451e-01 -3.269839e-01 -7.083953e-02 -5.295979e-02       5.600000   \n",
       "50%    1.659350e-02 -5.213911e-02  1.342146e-03  1.124383e-02      22.000000   \n",
       "75%    3.507156e-01  2.409522e-01  9.104512e-02  7.827995e-02      77.165000   \n",
       "max    7.519589e+00  3.517346e+00  3.161220e+01  3.384781e+01   25691.160000   \n",
       "\n",
       "               Class  \n",
       "count  284807.000000  \n",
       "mean        0.001727  \n",
       "std         0.041527  \n",
       "min         0.000000  \n",
       "25%         0.000000  \n",
       "50%         0.000000  \n",
       "75%         0.000000  \n",
       "max         1.000000  \n",
       "\n",
       "[8 rows x 31 columns]"
      ]
     },
     "execution_count": 53,
     "metadata": {},
     "output_type": "execute_result"
    }
   ],
   "source": [
    "df.describe()"
   ]
  },
  {
   "cell_type": "code",
   "execution_count": 54,
   "metadata": {},
   "outputs": [
    {
     "data": {
      "text/plain": [
       "(array([], dtype=int64), array([], dtype=int64))"
      ]
     },
     "execution_count": 54,
     "metadata": {},
     "output_type": "execute_result"
    }
   ],
   "source": [
    "np.where(df.applymap(lambda x: x==''))"
   ]
  },
  {
   "cell_type": "code",
   "execution_count": 55,
   "metadata": {},
   "outputs": [
    {
     "data": {
      "text/plain": [
       "1825"
      ]
     },
     "execution_count": 55,
     "metadata": {},
     "output_type": "execute_result"
    }
   ],
   "source": [
    "(df['Amount'].values == 0).sum()"
   ]
  },
  {
   "cell_type": "code",
   "execution_count": 56,
   "metadata": {},
   "outputs": [],
   "source": [
    "non_fraud=df[df[\"Class\"]==0]\n",
    "fraud = df[df[\"Class\"]==1]\n",
    "non_fraud=non_fraud.sample(3*fraud.shape[0])\n",
    "data = fraud.append(non_fraud, ignore_index=True)\n",
    "x_data= data.drop(columns=\"Class\", axis=0)\n",
    "label = data[\"Class\"]"
   ]
  },
  {
   "cell_type": "code",
   "execution_count": 57,
   "metadata": {},
   "outputs": [
    {
     "data": {
      "text/plain": [
       "(1476, 31)"
      ]
     },
     "execution_count": 57,
     "metadata": {},
     "output_type": "execute_result"
    }
   ],
   "source": [
    "non_fraud.shape"
   ]
  },
  {
   "cell_type": "code",
   "execution_count": 58,
   "metadata": {},
   "outputs": [
    {
     "data": {
      "text/plain": [
       "(1968, 31)"
      ]
     },
     "execution_count": 58,
     "metadata": {},
     "output_type": "execute_result"
    }
   ],
   "source": [
    "data.shape"
   ]
  },
  {
   "cell_type": "code",
   "execution_count": 59,
   "metadata": {},
   "outputs": [],
   "source": [
    "train_data, test_data, train_labels, test_labels=train_test_split(x_data, label, test_size=0.3, random_state=1, stratify = label)"
   ]
  },
  {
   "cell_type": "code",
   "execution_count": 60,
   "metadata": {},
   "outputs": [],
   "source": [
    "train_mean = train_data.mean(axis=0) # taking the mean of \n",
    "train_data -= train_mean\n",
    "train_std = train_data.std(axis=0)\n",
    "train_data /= train_std\n",
    "test_data -= train_mean\n",
    "test_data /= train_std"
   ]
  },
  {
   "cell_type": "markdown",
   "metadata": {},
   "source": [
    "# Building the network"
   ]
  },
  {
   "cell_type": "code",
   "execution_count": 61,
   "metadata": {},
   "outputs": [],
   "source": [
    "model = models.Sequential()\n",
    "model.add(layers.Dense(20, activation='relu',kernel_regularizer=regularizers.l2(0.001), input_shape=(train_data.shape[1],)))\n",
    "model.add(layers.Dropout(0.5))\n",
    "model.add(layers.Dense(10, activation='relu',kernel_regularizer=regularizers.l2(0.001)))\n",
    "model.add(layers.Dropout(0.5))\n",
    "model.add(layers.Dense(8, activation='relu',kernel_regularizer=regularizers.l2(0.001)))\n",
    "model.add(layers.Dropout(0.5))\n",
    "model.add(layers.Dense(6, activation='relu',kernel_regularizer=regularizers.l2(0.001)))\n",
    "model.add(layers.Dropout(0.5))\n",
    "model.add(layers.Dense(1, activation='sigmoid'))"
   ]
  },
  {
   "cell_type": "code",
   "execution_count": 62,
   "metadata": {},
   "outputs": [],
   "source": [
    "model.compile(loss= 'binary_crossentropy', optimizer= 'rmsprop', metrics=['accuracy'])"
   ]
  },
  {
   "cell_type": "code",
   "execution_count": 63,
   "metadata": {},
   "outputs": [
    {
     "name": "stdout",
     "output_type": "stream",
     "text": [
      "Epoch 1/100\n",
      "31/31 [==============================] - 2s 10ms/step - loss: 0.8280 - accuracy: 0.6359 - val_loss: 0.7033 - val_accuracy: 0.7657\n",
      "Epoch 2/100\n",
      "31/31 [==============================] - 0s 3ms/step - loss: 0.7893 - accuracy: 0.6924 - val_loss: 0.6789 - val_accuracy: 0.7391\n",
      "Epoch 3/100\n",
      "31/31 [==============================] - 0s 2ms/step - loss: 0.7703 - accuracy: 0.7210 - val_loss: 0.6671 - val_accuracy: 0.7391\n",
      "Epoch 4/100\n",
      "31/31 [==============================] - 0s 2ms/step - loss: 0.6940 - accuracy: 0.7199 - val_loss: 0.6519 - val_accuracy: 0.7391\n",
      "Epoch 5/100\n",
      "31/31 [==============================] - 0s 2ms/step - loss: 0.7017 - accuracy: 0.7408 - val_loss: 0.6376 - val_accuracy: 0.7391\n",
      "Epoch 6/100\n",
      "31/31 [==============================] - 0s 2ms/step - loss: 0.6969 - accuracy: 0.7069 - val_loss: 0.6246 - val_accuracy: 0.7391\n",
      "Epoch 7/100\n",
      "31/31 [==============================] - 0s 3ms/step - loss: 0.6402 - accuracy: 0.7488 - val_loss: 0.6036 - val_accuracy: 0.7391\n",
      "Epoch 8/100\n",
      "31/31 [==============================] - 0s 2ms/step - loss: 0.6352 - accuracy: 0.7476 - val_loss: 0.5781 - val_accuracy: 0.7391\n",
      "Epoch 9/100\n",
      "31/31 [==============================] - 0s 2ms/step - loss: 0.6119 - accuracy: 0.7609 - val_loss: 0.5599 - val_accuracy: 0.7391\n",
      "Epoch 10/100\n",
      "31/31 [==============================] - 0s 2ms/step - loss: 0.6029 - accuracy: 0.7337 - val_loss: 0.5430 - val_accuracy: 0.7391\n",
      "Epoch 11/100\n",
      "31/31 [==============================] - 0s 2ms/step - loss: 0.5758 - accuracy: 0.7612 - val_loss: 0.5242 - val_accuracy: 0.7391\n",
      "Epoch 12/100\n",
      "31/31 [==============================] - 0s 2ms/step - loss: 0.5636 - accuracy: 0.7550 - val_loss: 0.5033 - val_accuracy: 0.7391\n",
      "Epoch 13/100\n",
      "31/31 [==============================] - 0s 3ms/step - loss: 0.6186 - accuracy: 0.7446 - val_loss: 0.4985 - val_accuracy: 0.7391\n",
      "Epoch 14/100\n",
      "31/31 [==============================] - 0s 2ms/step - loss: 0.5938 - accuracy: 0.7349 - val_loss: 0.4827 - val_accuracy: 0.7391\n",
      "Epoch 15/100\n",
      "31/31 [==============================] - 0s 2ms/step - loss: 0.6173 - accuracy: 0.7435 - val_loss: 0.4699 - val_accuracy: 0.7391\n",
      "Epoch 16/100\n",
      "31/31 [==============================] - 0s 3ms/step - loss: 0.6201 - accuracy: 0.7677 - val_loss: 0.4685 - val_accuracy: 0.7391\n",
      "Epoch 17/100\n",
      "31/31 [==============================] - 0s 3ms/step - loss: 0.5249 - accuracy: 0.7403 - val_loss: 0.4542 - val_accuracy: 0.7391\n",
      "Epoch 18/100\n",
      "31/31 [==============================] - 0s 3ms/step - loss: 0.5290 - accuracy: 0.7554 - val_loss: 0.4474 - val_accuracy: 0.7391\n",
      "Epoch 19/100\n",
      "31/31 [==============================] - 0s 3ms/step - loss: 0.5124 - accuracy: 0.7575 - val_loss: 0.4382 - val_accuracy: 0.7391\n",
      "Epoch 20/100\n",
      "31/31 [==============================] - 0s 2ms/step - loss: 0.5221 - accuracy: 0.7607 - val_loss: 0.4217 - val_accuracy: 0.7391\n",
      "Epoch 21/100\n",
      "31/31 [==============================] - 0s 3ms/step - loss: 0.5081 - accuracy: 0.7497 - val_loss: 0.4036 - val_accuracy: 0.7391\n",
      "Epoch 22/100\n",
      "31/31 [==============================] - 0s 3ms/step - loss: 0.4817 - accuracy: 0.7648 - val_loss: 0.3931 - val_accuracy: 0.7391\n",
      "Epoch 23/100\n",
      "31/31 [==============================] - 0s 2ms/step - loss: 0.5269 - accuracy: 0.7683 - val_loss: 0.3907 - val_accuracy: 0.7391\n",
      "Epoch 24/100\n",
      "31/31 [==============================] - 0s 2ms/step - loss: 0.5202 - accuracy: 0.7422 - val_loss: 0.3851 - val_accuracy: 0.7391\n",
      "Epoch 25/100\n",
      "31/31 [==============================] - 0s 2ms/step - loss: 0.4714 - accuracy: 0.7609 - val_loss: 0.3784 - val_accuracy: 0.7391\n",
      "Epoch 26/100\n",
      "31/31 [==============================] - 0s 2ms/step - loss: 0.4440 - accuracy: 0.7721 - val_loss: 0.3729 - val_accuracy: 0.7391\n",
      "Epoch 27/100\n",
      "31/31 [==============================] - 0s 2ms/step - loss: 0.4377 - accuracy: 0.7517 - val_loss: 0.3643 - val_accuracy: 0.7391\n",
      "Epoch 28/100\n",
      "31/31 [==============================] - 0s 3ms/step - loss: 0.4557 - accuracy: 0.7539 - val_loss: 0.3600 - val_accuracy: 0.7391\n",
      "Epoch 29/100\n",
      "31/31 [==============================] - 0s 3ms/step - loss: 0.4530 - accuracy: 0.7662 - val_loss: 0.3572 - val_accuracy: 0.7391\n",
      "Epoch 30/100\n",
      "31/31 [==============================] - 0s 2ms/step - loss: 0.4783 - accuracy: 0.7373 - val_loss: 0.3503 - val_accuracy: 0.7391\n",
      "Epoch 31/100\n",
      "31/31 [==============================] - 0s 2ms/step - loss: 0.4497 - accuracy: 0.7665 - val_loss: 0.3469 - val_accuracy: 0.7391\n",
      "Epoch 32/100\n",
      "31/31 [==============================] - 0s 2ms/step - loss: 0.4495 - accuracy: 0.7546 - val_loss: 0.3419 - val_accuracy: 0.7391\n",
      "Epoch 33/100\n",
      "31/31 [==============================] - 0s 2ms/step - loss: 0.4483 - accuracy: 0.7551 - val_loss: 0.3386 - val_accuracy: 0.7391\n",
      "Epoch 34/100\n",
      "31/31 [==============================] - 0s 2ms/step - loss: 0.4817 - accuracy: 0.7266 - val_loss: 0.3369 - val_accuracy: 0.7391\n",
      "Epoch 35/100\n",
      "31/31 [==============================] - 0s 3ms/step - loss: 0.4344 - accuracy: 0.7678 - val_loss: 0.3333 - val_accuracy: 0.7391\n",
      "Epoch 36/100\n",
      "31/31 [==============================] - 0s 3ms/step - loss: 0.4157 - accuracy: 0.7404 - val_loss: 0.3318 - val_accuracy: 0.7391\n",
      "Epoch 37/100\n",
      "31/31 [==============================] - 0s 2ms/step - loss: 0.4199 - accuracy: 0.7600 - val_loss: 0.3318 - val_accuracy: 0.7391\n",
      "Epoch 38/100\n",
      "31/31 [==============================] - 0s 2ms/step - loss: 0.4064 - accuracy: 0.7713 - val_loss: 0.3306 - val_accuracy: 0.7391\n",
      "Epoch 39/100\n",
      "31/31 [==============================] - 0s 2ms/step - loss: 0.4404 - accuracy: 0.7573 - val_loss: 0.3286 - val_accuracy: 0.7391\n",
      "Epoch 40/100\n",
      "31/31 [==============================] - 0s 2ms/step - loss: 0.4181 - accuracy: 0.7646 - val_loss: 0.3245 - val_accuracy: 0.7391\n",
      "Epoch 41/100\n",
      "31/31 [==============================] - 0s 2ms/step - loss: 0.3850 - accuracy: 0.7523 - val_loss: 0.3261 - val_accuracy: 0.7391\n",
      "Epoch 42/100\n",
      "31/31 [==============================] - 0s 2ms/step - loss: 0.3739 - accuracy: 0.7733 - val_loss: 0.3237 - val_accuracy: 0.7391\n",
      "Epoch 43/100\n",
      "31/31 [==============================] - 0s 3ms/step - loss: 0.3757 - accuracy: 0.7408 - val_loss: 0.3320 - val_accuracy: 0.7391\n",
      "Epoch 44/100\n",
      "31/31 [==============================] - 0s 2ms/step - loss: 0.3572 - accuracy: 0.7705 - val_loss: 0.3346 - val_accuracy: 0.9565\n",
      "Epoch 45/100\n",
      "31/31 [==============================] - 0s 2ms/step - loss: 0.3802 - accuracy: 0.8797 - val_loss: 0.3313 - val_accuracy: 0.9589\n",
      "Epoch 46/100\n",
      "31/31 [==============================] - 0s 2ms/step - loss: 0.3372 - accuracy: 0.9145 - val_loss: 0.3341 - val_accuracy: 0.9614\n",
      "Epoch 47/100\n",
      "31/31 [==============================] - 0s 2ms/step - loss: 0.4209 - accuracy: 0.9128 - val_loss: 0.3294 - val_accuracy: 0.9614\n",
      "Epoch 48/100\n",
      "31/31 [==============================] - 0s 2ms/step - loss: 0.3923 - accuracy: 0.8853 - val_loss: 0.3243 - val_accuracy: 0.9614\n",
      "Epoch 49/100\n",
      "31/31 [==============================] - 0s 3ms/step - loss: 0.3276 - accuracy: 0.9232 - val_loss: 0.3212 - val_accuracy: 0.9589\n",
      "Epoch 50/100\n",
      "31/31 [==============================] - 0s 2ms/step - loss: 0.3869 - accuracy: 0.8927 - val_loss: 0.3183 - val_accuracy: 0.9589\n",
      "Epoch 51/100\n",
      "31/31 [==============================] - 0s 3ms/step - loss: 0.3488 - accuracy: 0.9035 - val_loss: 0.3213 - val_accuracy: 0.9614\n",
      "Epoch 52/100\n",
      "31/31 [==============================] - 0s 2ms/step - loss: 0.3967 - accuracy: 0.9072 - val_loss: 0.3176 - val_accuracy: 0.9614\n",
      "Epoch 53/100\n",
      "31/31 [==============================] - 0s 2ms/step - loss: 0.3173 - accuracy: 0.9230 - val_loss: 0.3221 - val_accuracy: 0.9614\n",
      "Epoch 54/100\n",
      "31/31 [==============================] - 0s 3ms/step - loss: 0.3563 - accuracy: 0.9081 - val_loss: 0.3264 - val_accuracy: 0.9589\n",
      "Epoch 55/100\n",
      "31/31 [==============================] - 0s 3ms/step - loss: 0.3547 - accuracy: 0.9171 - val_loss: 0.3292 - val_accuracy: 0.9589\n",
      "Epoch 56/100\n",
      "31/31 [==============================] - 0s 2ms/step - loss: 0.3364 - accuracy: 0.8924 - val_loss: 0.3300 - val_accuracy: 0.9589\n",
      "Epoch 57/100\n",
      "31/31 [==============================] - 0s 3ms/step - loss: 0.3235 - accuracy: 0.9232 - val_loss: 0.3194 - val_accuracy: 0.9565\n",
      "Epoch 58/100\n",
      "31/31 [==============================] - 0s 3ms/step - loss: 0.3744 - accuracy: 0.9257 - val_loss: 0.3214 - val_accuracy: 0.9565\n"
     ]
    },
    {
     "name": "stdout",
     "output_type": "stream",
     "text": [
      "Epoch 59/100\n",
      "31/31 [==============================] - 0s 3ms/step - loss: 0.3371 - accuracy: 0.9379 - val_loss: 0.3188 - val_accuracy: 0.9565\n",
      "Epoch 60/100\n",
      "31/31 [==============================] - 0s 2ms/step - loss: 0.3194 - accuracy: 0.9448 - val_loss: 0.3132 - val_accuracy: 0.9565\n",
      "Epoch 61/100\n",
      "31/31 [==============================] - 0s 2ms/step - loss: 0.3402 - accuracy: 0.9121 - val_loss: 0.3172 - val_accuracy: 0.9565\n",
      "Epoch 62/100\n",
      "31/31 [==============================] - 0s 2ms/step - loss: 0.3141 - accuracy: 0.9318 - val_loss: 0.3166 - val_accuracy: 0.9517\n",
      "Epoch 63/100\n",
      "31/31 [==============================] - 0s 2ms/step - loss: 0.3017 - accuracy: 0.9175 - val_loss: 0.3181 - val_accuracy: 0.9517\n",
      "Epoch 64/100\n",
      "31/31 [==============================] - 0s 3ms/step - loss: 0.3361 - accuracy: 0.9138 - val_loss: 0.3302 - val_accuracy: 0.9541\n",
      "Epoch 65/100\n",
      "31/31 [==============================] - 0s 3ms/step - loss: 0.3350 - accuracy: 0.9340 - val_loss: 0.3244 - val_accuracy: 0.9517\n",
      "Epoch 66/100\n",
      "31/31 [==============================] - 0s 2ms/step - loss: 0.3139 - accuracy: 0.9320 - val_loss: 0.3259 - val_accuracy: 0.9493\n",
      "Epoch 67/100\n",
      "31/31 [==============================] - 0s 2ms/step - loss: 0.3266 - accuracy: 0.9220 - val_loss: 0.3266 - val_accuracy: 0.9469\n",
      "Epoch 68/100\n",
      "31/31 [==============================] - 0s 2ms/step - loss: 0.3213 - accuracy: 0.9260 - val_loss: 0.3277 - val_accuracy: 0.9469\n",
      "Epoch 69/100\n",
      "31/31 [==============================] - 0s 2ms/step - loss: 0.3090 - accuracy: 0.9397 - val_loss: 0.3319 - val_accuracy: 0.9493\n",
      "Epoch 70/100\n",
      "31/31 [==============================] - 0s 3ms/step - loss: 0.3111 - accuracy: 0.9314 - val_loss: 0.3197 - val_accuracy: 0.9469\n",
      "Epoch 71/100\n",
      "31/31 [==============================] - 0s 3ms/step - loss: 0.3272 - accuracy: 0.9125 - val_loss: 0.3152 - val_accuracy: 0.9493\n",
      "Epoch 72/100\n",
      "31/31 [==============================] - 0s 3ms/step - loss: 0.2844 - accuracy: 0.9323 - val_loss: 0.3232 - val_accuracy: 0.9469\n",
      "Epoch 73/100\n",
      "31/31 [==============================] - 0s 3ms/step - loss: 0.3108 - accuracy: 0.9243 - val_loss: 0.3200 - val_accuracy: 0.9469\n",
      "Epoch 74/100\n",
      "31/31 [==============================] - 0s 2ms/step - loss: 0.2814 - accuracy: 0.9150 - val_loss: 0.3268 - val_accuracy: 0.9469\n",
      "Epoch 75/100\n",
      "31/31 [==============================] - 0s 2ms/step - loss: 0.2860 - accuracy: 0.9404 - val_loss: 0.3188 - val_accuracy: 0.9469\n",
      "Epoch 76/100\n",
      "31/31 [==============================] - 0s 2ms/step - loss: 0.3220 - accuracy: 0.9197 - val_loss: 0.3136 - val_accuracy: 0.9517\n",
      "Epoch 77/100\n",
      "31/31 [==============================] - 0s 3ms/step - loss: 0.3680 - accuracy: 0.9040 - val_loss: 0.3176 - val_accuracy: 0.9493\n",
      "Epoch 78/100\n",
      "31/31 [==============================] - 0s 3ms/step - loss: 0.3201 - accuracy: 0.9273 - val_loss: 0.3169 - val_accuracy: 0.9493\n",
      "Epoch 79/100\n",
      "31/31 [==============================] - 0s 3ms/step - loss: 0.3208 - accuracy: 0.9123 - val_loss: 0.3298 - val_accuracy: 0.9493\n",
      "Epoch 80/100\n",
      "31/31 [==============================] - 0s 2ms/step - loss: 0.3230 - accuracy: 0.9415 - val_loss: 0.3159 - val_accuracy: 0.9517\n",
      "Epoch 81/100\n",
      "31/31 [==============================] - 0s 2ms/step - loss: 0.3232 - accuracy: 0.9262 - val_loss: 0.3052 - val_accuracy: 0.9517\n",
      "Epoch 82/100\n",
      "31/31 [==============================] - 0s 2ms/step - loss: 0.2557 - accuracy: 0.9311 - val_loss: 0.3192 - val_accuracy: 0.9493\n",
      "Epoch 83/100\n",
      "31/31 [==============================] - 0s 2ms/step - loss: 0.2724 - accuracy: 0.9301 - val_loss: 0.3211 - val_accuracy: 0.9493\n",
      "Epoch 84/100\n",
      "31/31 [==============================] - 0s 2ms/step - loss: 0.2928 - accuracy: 0.9315 - val_loss: 0.3167 - val_accuracy: 0.9517\n",
      "Epoch 85/100\n",
      "31/31 [==============================] - 0s 3ms/step - loss: 0.3872 - accuracy: 0.9251 - val_loss: 0.3256 - val_accuracy: 0.9493\n",
      "Epoch 86/100\n",
      "31/31 [==============================] - 0s 3ms/step - loss: 0.3165 - accuracy: 0.9248 - val_loss: 0.3253 - val_accuracy: 0.9469\n",
      "Epoch 87/100\n",
      "31/31 [==============================] - 0s 2ms/step - loss: 0.3184 - accuracy: 0.9096 - val_loss: 0.3199 - val_accuracy: 0.9493\n",
      "Epoch 88/100\n",
      "31/31 [==============================] - 0s 2ms/step - loss: 0.2731 - accuracy: 0.9218 - val_loss: 0.3281 - val_accuracy: 0.9493\n",
      "Epoch 89/100\n",
      "31/31 [==============================] - 0s 2ms/step - loss: 0.2631 - accuracy: 0.9365 - val_loss: 0.3321 - val_accuracy: 0.9517\n",
      "Epoch 90/100\n",
      "31/31 [==============================] - 0s 2ms/step - loss: 0.2557 - accuracy: 0.9346 - val_loss: 0.3303 - val_accuracy: 0.9517\n",
      "Epoch 91/100\n",
      "31/31 [==============================] - 0s 3ms/step - loss: 0.2965 - accuracy: 0.9354 - val_loss: 0.3217 - val_accuracy: 0.9493\n",
      "Epoch 92/100\n",
      "31/31 [==============================] - 0s 2ms/step - loss: 0.2326 - accuracy: 0.9362 - val_loss: 0.3257 - val_accuracy: 0.9517\n",
      "Epoch 93/100\n",
      "31/31 [==============================] - 0s 3ms/step - loss: 0.2689 - accuracy: 0.9360 - val_loss: 0.3271 - val_accuracy: 0.9517\n",
      "Epoch 94/100\n",
      "31/31 [==============================] - 0s 3ms/step - loss: 0.2356 - accuracy: 0.9454 - val_loss: 0.3151 - val_accuracy: 0.9517\n",
      "Epoch 95/100\n",
      "31/31 [==============================] - 0s 3ms/step - loss: 0.2312 - accuracy: 0.9448 - val_loss: 0.3030 - val_accuracy: 0.9493\n",
      "Epoch 96/100\n",
      "31/31 [==============================] - 0s 3ms/step - loss: 0.3051 - accuracy: 0.9216 - val_loss: 0.3154 - val_accuracy: 0.9517\n",
      "Epoch 97/100\n",
      "31/31 [==============================] - 0s 2ms/step - loss: 0.2415 - accuracy: 0.9619 - val_loss: 0.3116 - val_accuracy: 0.9517\n",
      "Epoch 98/100\n",
      "31/31 [==============================] - 0s 3ms/step - loss: 0.3593 - accuracy: 0.9354 - val_loss: 0.3019 - val_accuracy: 0.9517\n",
      "Epoch 99/100\n",
      "31/31 [==============================] - 0s 3ms/step - loss: 0.2507 - accuracy: 0.9336 - val_loss: 0.3108 - val_accuracy: 0.9517\n",
      "Epoch 100/100\n",
      "31/31 [==============================] - 0s 3ms/step - loss: 0.2928 - accuracy: 0.9165 - val_loss: 0.3069 - val_accuracy: 0.9517\n"
     ]
    },
    {
     "data": {
      "text/plain": [
       "<tensorflow.python.keras.callbacks.History at 0x2aa2424c1f0>"
      ]
     },
     "execution_count": 63,
     "metadata": {},
     "output_type": "execute_result"
    }
   ],
   "source": [
    "model.fit(train_data, train_labels, epochs=100,validation_split = 0.3)"
   ]
  },
  {
   "cell_type": "code",
   "execution_count": 64,
   "metadata": {},
   "outputs": [
    {
     "name": "stdout",
     "output_type": "stream",
     "text": [
      "19/19 [==============================] - 0s 735us/step - loss: 0.3156 - accuracy: 0.9628\n"
     ]
    }
   ],
   "source": [
    "loss, accuracy = model.evaluate(test_data, test_labels)"
   ]
  },
  {
   "cell_type": "code",
   "execution_count": 65,
   "metadata": {},
   "outputs": [
    {
     "data": {
      "text/plain": [
       "0.31560418009757996"
      ]
     },
     "execution_count": 65,
     "metadata": {},
     "output_type": "execute_result"
    }
   ],
   "source": [
    "loss"
   ]
  },
  {
   "cell_type": "code",
   "execution_count": 66,
   "metadata": {},
   "outputs": [
    {
     "data": {
      "text/plain": [
       "0.962774932384491"
      ]
     },
     "execution_count": 66,
     "metadata": {},
     "output_type": "execute_result"
    }
   ],
   "source": [
    "accuracy"
   ]
  },
  {
   "cell_type": "code",
   "execution_count": 67,
   "metadata": {},
   "outputs": [],
   "source": [
    "x = model.predict(test_data).astype(dtype=\"u8\")"
   ]
  },
  {
   "cell_type": "code",
   "execution_count": 68,
   "metadata": {},
   "outputs": [],
   "source": [
    "a=x"
   ]
  },
  {
   "cell_type": "code",
   "execution_count": 69,
   "metadata": {},
   "outputs": [],
   "source": [
    "b= np.array(test_labels)"
   ]
  },
  {
   "cell_type": "code",
   "execution_count": 70,
   "metadata": {},
   "outputs": [],
   "source": [
    "a= a.reshape(1,a.shape[0])"
   ]
  },
  {
   "cell_type": "code",
   "execution_count": 71,
   "metadata": {},
   "outputs": [
    {
     "data": {
      "text/plain": [
       "148"
      ]
     },
     "execution_count": 71,
     "metadata": {},
     "output_type": "execute_result"
    }
   ],
   "source": [
    "np.size(a != b) - np.count_nonzero(a == b)"
   ]
  },
  {
   "cell_type": "code",
   "execution_count": 72,
   "metadata": {},
   "outputs": [],
   "source": [
    "con = tf.math.confusion_matrix(labels= test_labels, predictions=x )"
   ]
  },
  {
   "cell_type": "code",
   "execution_count": 73,
   "metadata": {},
   "outputs": [
    {
     "data": {
      "text/plain": [
       "<tf.Tensor: shape=(2, 2), dtype=int32, numpy=\n",
       "array([[443,   0],\n",
       "       [148,   0]])>"
      ]
     },
     "execution_count": 73,
     "metadata": {},
     "output_type": "execute_result"
    }
   ],
   "source": [
    "con"
   ]
  },
  {
   "cell_type": "code",
   "execution_count": null,
   "metadata": {},
   "outputs": [],
   "source": []
  },
  {
   "cell_type": "code",
   "execution_count": null,
   "metadata": {},
   "outputs": [],
   "source": []
  }
 ],
 "metadata": {
  "kernelspec": {
   "display_name": "Python 3",
   "language": "python",
   "name": "python3"
  },
  "language_info": {
   "codemirror_mode": {
    "name": "ipython",
    "version": 3
   },
   "file_extension": ".py",
   "mimetype": "text/x-python",
   "name": "python",
   "nbconvert_exporter": "python",
   "pygments_lexer": "ipython3",
   "version": "3.8.3"
  }
 },
 "nbformat": 4,
 "nbformat_minor": 4
}
