{
 "cells": [
  {
   "cell_type": "markdown",
   "metadata": {
    "id": "BXgJ6uT1NydQ"
   },
   "source": [
    "Assignment: Flowers Recognition <br>\n",
    "Dataset Description:<br>\n",
    "\n",
    "This dataset contains 4242 images of flowers.<br>\n",
    "The data collection is based on the data flicr, google images, yandex images.<br>\n",
    "You can use this datastet to recognize plants from the photo.<br>\n",
    "\n",
    "Attribute Information:<br>\n",
    "The pictures are divided into five classes: chamomile, tulip, rose, sunflower, dandelion.<br>\n",
    "For each class there are about 800 photos. Photos are not high resolution, about 320x240 pixels. <br>\n",
    "<b>Also explore how to resize images in tensorflow and then resize all the images to a same size. </b> <br>\n",
    "This is a Multiclass Classification Problem.<br>\n",
    "\n",
    "\n"
   ]
  },
  {
   "cell_type": "markdown",
   "metadata": {
    "id": "T7vy-ktuOKJH"
   },
   "source": [
    "WORKFLOW : <br>\n",
    "Load Data <br>\n",
    "Split into 60 and 40 ratio.<br>\n",
    "Encode labels.<br>\n",
    "Create Model<br>\n",
    "Compilation Step (Note : Its a Multiclass Classification problem , select loss , metrics according to it)<br>\n",
    "Train the Model.<br>\n",
    "If the model gets overfit tune your model by changing the units , No. of layers , epochs , add dropout layer or add Regularizer according to the need .<br>\n",
    "Prediction should be > 85%<br>\n",
    "Evaluation Step<br>\n",
    "Prediction<br>\n",
    "\n",
    "\n"
   ]
  },
  {
   "cell_type": "markdown",
   "metadata": {
    "id": "ri3Bg5qfPRic"
   },
   "source": [
    "Data : <br>\n",
    "https://drive.google.com/file/d/1-OX6wn5gA-bJpjPNfSyaYQLz-A-AB_uj/view?usp=sharing"
   ]
  },
  {
   "cell_type": "code",
   "execution_count": 1,
   "metadata": {
    "id": "MHeMvFpkR-Oe"
   },
   "outputs": [],
   "source": [
    "import numpy as np\n",
    "import pandas as pd\n",
    "import glob\n",
    "import cv2\n",
    "import tensorflow as tf\n",
    "import matplotlib.pyplot as plt\n",
    "from tensorflow.keras import models\n",
    "from tensorflow.keras import layers\n",
    "from tensorflow.keras.preprocessing.image import ImageDataGenerator\n",
    "from tensorflow.keras.models import Sequential\n",
    "from tensorflow.keras.layers import Dense, Flatten\n",
    "from tensorflow.keras.optimizers import RMSprop\n",
    "from sklearn.model_selection import train_test_split"
   ]
  },
  {
   "cell_type": "code",
   "execution_count": 2,
   "metadata": {
    "id": "egZwLd-iJDED"
   },
   "outputs": [],
   "source": [
    "IMG_DIR='datasets/flowers/daisy'\n",
    "IMG_DIR1='datasets/flowers/dandelion'\n",
    "IMG_DIR2='datasets/flowers/rose'\n",
    "IMG_DIR3='datasets/flowers/sunflower'\n",
    "IMG_DIR4='datasets/flowers/tulip'\n",
    "\n",
    "def read_images(directory):\n",
    "    for img in glob.glob(directory+\"/*.jpg\"):\n",
    "        image = cv2.imread(img)\n",
    "        resized_img = cv2.resize(image/255.0  , (180 ,180))\n",
    "\n",
    "        yield resized_img\n",
    "\n",
    "resized_imgs0 =  np.array(list(read_images(IMG_DIR)))\n",
    "resized_imgs1 =  np.array(list(read_images(IMG_DIR1)))\n",
    "resized_imgs2 =  np.array(list(read_images(IMG_DIR2)))\n",
    "resized_imgs3 =  np.array(list(read_images(IMG_DIR3)))\n",
    "resized_imgs4 =  np.array(list(read_images(IMG_DIR4)))"
   ]
  },
  {
   "cell_type": "code",
   "execution_count": 3,
   "metadata": {},
   "outputs": [
    {
     "data": {
      "text/plain": [
       "(769, 180, 180, 3)"
      ]
     },
     "execution_count": 3,
     "metadata": {},
     "output_type": "execute_result"
    }
   ],
   "source": [
    "resized_imgs0.shape"
   ]
  },
  {
   "cell_type": "code",
   "execution_count": 4,
   "metadata": {
    "id": "coTWYSuim7aH"
   },
   "outputs": [],
   "source": [
    "label0 = np.zeros((resized_imgs0.shape[0],1))   #0\n",
    "label1 = np.ones((resized_imgs1.shape[0],1))  #1\n",
    "label2 = np.ones((resized_imgs2.shape[0],1))*2 #2\n",
    "label3 = np.ones((resized_imgs3.shape[0],1))*3 #3\n",
    "label4 = np.ones((resized_imgs4.shape[0],1))*4  #4"
   ]
  },
  {
   "cell_type": "code",
   "execution_count": 5,
   "metadata": {
    "id": "kfxqQEKJm7ho"
   },
   "outputs": [],
   "source": [
    "data = np.concatenate((resized_imgs0,resized_imgs1,resized_imgs2,resized_imgs3,resized_imgs4))"
   ]
  },
  {
   "cell_type": "code",
   "execution_count": 6,
   "metadata": {
    "id": "hyo0eb-5S3hN"
   },
   "outputs": [],
   "source": [
    "del resized_imgs0\n",
    "del resized_imgs1\n",
    "del resized_imgs2\n",
    "del resized_imgs3\n",
    "del resized_imgs4"
   ]
  },
  {
   "cell_type": "code",
   "execution_count": 7,
   "metadata": {
    "id": "v1rIpkgunCsg"
   },
   "outputs": [],
   "source": [
    "data= data.reshape(data.shape[0], data.shape[1]*data.shape[2]*data.shape[3])"
   ]
  },
  {
   "cell_type": "code",
   "execution_count": 8,
   "metadata": {
    "id": "v46rF7dJm7l0"
   },
   "outputs": [],
   "source": [
    "labels = np.concatenate((label0,label1,label2,label3,label4))"
   ]
  },
  {
   "cell_type": "code",
   "execution_count": 9,
   "metadata": {
    "id": "SBw851DUqx1d"
   },
   "outputs": [],
   "source": [
    "del label0\n",
    "del label1\n",
    "del label2\n",
    "del label3\n",
    "del label4"
   ]
  },
  {
   "cell_type": "code",
   "execution_count": 10,
   "metadata": {
    "id": "GdRMJtr-m7ob"
   },
   "outputs": [],
   "source": [
    "data = pd.DataFrame(data)\n",
    "data['labels'] = labels.astype('float32')"
   ]
  },
  {
   "cell_type": "code",
   "execution_count": 11,
   "metadata": {
    "id": "YIxDtQiWnVLg"
   },
   "outputs": [],
   "source": [
    "train_data, test_data, train_labels, test_labels=train_test_split(data.iloc[0:,:-1], data['labels'], test_size=0.3, random_state=42, stratify = labels)"
   ]
  },
  {
   "cell_type": "code",
   "execution_count": 12,
   "metadata": {
    "id": "HNTJzW2PJppz"
   },
   "outputs": [],
   "source": [
    "del data"
   ]
  },
  {
   "cell_type": "code",
   "execution_count": 13,
   "metadata": {
    "id": "ySi80YLhm7rY"
   },
   "outputs": [],
   "source": [
    "train_data = np.array(train_data).reshape(len(train_data),180,180,3)\n",
    "# test_data.reshape(150,150,3)"
   ]
  },
  {
   "cell_type": "code",
   "execution_count": 14,
   "metadata": {
    "id": "u2Q2bSk0i8SS"
   },
   "outputs": [],
   "source": [
    "test_data = np.array(test_data).reshape(len(test_data),180,180,3)"
   ]
  },
  {
   "cell_type": "code",
   "execution_count": 15,
   "metadata": {
    "id": "RVYQi0yowy5d"
   },
   "outputs": [],
   "source": [
    "train_labels = np.array(train_labels).astype('float32')\n",
    "test_labels = np.array(test_labels).astype('float32')"
   ]
  },
  {
   "cell_type": "code",
   "execution_count": 42,
   "metadata": {
    "id": "xwFlpTZXm7tw"
   },
   "outputs": [],
   "source": [
    "# from keras.utils import to_categorical\n",
    "# train_labels = to_categorical(train_labels)\n",
    "# test_labels = to_categorical(test_labels)"
   ]
  },
  {
   "cell_type": "code",
   "execution_count": 16,
   "metadata": {
    "id": "mMFN2MN4nKEI"
   },
   "outputs": [],
   "source": [
    "data_gen = tf.keras.preprocessing.image.ImageDataGenerator(\n",
    "    # featurewise_center=True,\n",
    "    # samplewise_center=True,\n",
    "    # featurewise_std_normalization=True,\n",
    "    # samplewise_std_normalization=True,\n",
    "    # zca_whitening=False,\n",
    "    zca_epsilon=1e-06,\n",
    "    rotation_range=0,\n",
    "    width_shift_range=0.0,\n",
    "    height_shift_range=0.0,\n",
    "    brightness_range=None,\n",
    "    shear_range=0.3,\n",
    "    zoom_range=0.2,\n",
    "    channel_shift_range=0.3,\n",
    "    fill_mode=\"nearest\",\n",
    "    cval=0.0,\n",
    "    horizontal_flip=True,\n",
    "    vertical_flip=False,\n",
    "    rescale=None,\n",
    "    preprocessing_function=None,\n",
    "    data_format=None,\n",
    "    validation_split=0.0,\n",
    "    dtype=None,\n",
    ")"
   ]
  },
  {
   "cell_type": "code",
   "execution_count": 17,
   "metadata": {
    "id": "IJxEir7CoyCj"
   },
   "outputs": [],
   "source": [
    "data_gen.fit(train_data)"
   ]
  },
  {
   "cell_type": "code",
   "execution_count": 18,
   "metadata": {
    "id": "ZIn7Xpbat0aV"
   },
   "outputs": [],
   "source": [
    "data_gen.fit(test_data)"
   ]
  },
  {
   "cell_type": "code",
   "execution_count": 19,
   "metadata": {
    "id": "n0kNKV8DatIC"
   },
   "outputs": [],
   "source": [
    "#MOdels with COnv2D and Maxpooling\n",
    "model = tf.keras.models.Sequential([\n",
    "    # Note the input shape is the desired size of the image 150x150 with 3 bytes color\n",
    "    # This is the first convolution\n",
    "    tf.keras.layers.Conv2D(64, (3,3), activation='relu', input_shape=(180, 180, 3,)),\n",
    "    tf.keras.layers.MaxPooling2D(2, 2),\n",
    "    # The second convolution\n",
    "    tf.keras.layers.Conv2D(64, (3,3), activation='relu'),\n",
    "    tf.keras.layers.MaxPooling2D(2,2),\n",
    "    # The third convolution\n",
    "    tf.keras.layers.Conv2D(32, (3,3), activation='relu'),\n",
    "    tf.keras.layers.MaxPooling2D(2,2),\n",
    "    # The fourth convolution\n",
    "    tf.keras.layers.Conv2D(16, (3,3), activation='relu'),\n",
    "    tf.keras.layers.MaxPooling2D(2,2),\n",
    "    # Flatten the results to feed into a DNN\n",
    "    tf.keras.layers.Flatten(),\n",
    "    tf.keras.layers.Dropout(0.5),\n",
    "    # 512 neuron hidden layer\n",
    "    tf.keras.layers.Dense(512, activation='relu'),\n",
    "    tf.keras.layers.Dense(5, activation='softmax')\n",
    "])"
   ]
  },
  {
   "cell_type": "code",
   "execution_count": 20,
   "metadata": {
    "id": "2QFL7tA4D0Sa"
   },
   "outputs": [],
   "source": [
    "model.compile(optimizer=RMSprop(learning_rate= 0.0001),\n",
    "loss='sparse_categorical_crossentropy',\n",
    "metrics=['accuracy'])"
   ]
  },
  {
   "cell_type": "code",
   "execution_count": null,
   "metadata": {
    "id": "kBJbtQp1fhfx"
   },
   "outputs": [],
   "source": [
    "#%tensorflow_version 2.x\n",
    "#import tensorflow as tf"
   ]
  },
  {
   "cell_type": "code",
   "execution_count": 21,
   "metadata": {
    "colab": {
     "base_uri": "https://localhost:8080/"
    },
    "id": "mwG7_qctxUBl",
    "outputId": "1451f513-f252-4795-a94a-de6160a3bcb8"
   },
   "outputs": [
    {
     "name": "stdout",
     "output_type": "stream",
     "text": [
      "Epoch 1/10\n",
      "30/30 [==============================] - 68s 2s/step - loss: 1.6104 - accuracy: 0.2213 - val_loss: 1.5608 - val_accuracy: 0.3500\n",
      "Epoch 2/10\n",
      "30/30 [==============================] - 48s 2s/step - loss: 1.5718 - accuracy: 0.2849 - val_loss: 1.4399 - val_accuracy: 0.3800\n",
      "Epoch 3/10\n",
      "30/30 [==============================] - 42s 1s/step - loss: 1.4406 - accuracy: 0.3649 - val_loss: 1.3010 - val_accuracy: 0.4800\n",
      "Epoch 4/10\n",
      "30/30 [==============================] - 42s 1s/step - loss: 1.3398 - accuracy: 0.4377 - val_loss: 1.2329 - val_accuracy: 0.5100\n",
      "Epoch 5/10\n",
      "30/30 [==============================] - 41s 1s/step - loss: 1.2195 - accuracy: 0.4699 - val_loss: 1.1890 - val_accuracy: 0.5200\n",
      "Epoch 6/10\n",
      "30/30 [==============================] - 42s 1s/step - loss: 1.2144 - accuracy: 0.4792 - val_loss: 1.1866 - val_accuracy: 0.5400\n",
      "Epoch 7/10\n",
      "30/30 [==============================] - 44s 1s/step - loss: 1.1654 - accuracy: 0.5160 - val_loss: 1.2422 - val_accuracy: 0.4300\n",
      "Epoch 8/10\n",
      "30/30 [==============================] - 44s 1s/step - loss: 1.1863 - accuracy: 0.4889 - val_loss: 1.1217 - val_accuracy: 0.5600\n",
      "Epoch 9/10\n",
      "30/30 [==============================] - 43s 1s/step - loss: 1.1191 - accuracy: 0.5090 - val_loss: 1.1301 - val_accuracy: 0.5700\n",
      "Epoch 10/10\n",
      "30/30 [==============================] - 42s 1s/step - loss: 1.1113 - accuracy: 0.5385 - val_loss: 1.1857 - val_accuracy: 0.4900\n"
     ]
    }
   ],
   "source": [
    "result = model.fit(\n",
    "          x= train_data,\n",
    "          y= train_labels,\n",
    "          batch_size = 30,\n",
    "          steps_per_epoch=30,\n",
    "          epochs=500,\n",
    "          validation_split=0.3,\n",
    "          validation_steps=10,\n",
    "          validation_batch_size=10)"
   ]
  },
  {
   "cell_type": "code",
   "execution_count": 22,
   "metadata": {
    "colab": {
     "base_uri": "https://localhost:8080/"
    },
    "id": "kAMVOUBUhcj9",
    "outputId": "820bc072-6d16-4524-f589-db35b0f56f1d"
   },
   "outputs": [
    {
     "name": "stdout",
     "output_type": "stream",
     "text": [
      "41/41 [==============================] - 16s 389ms/step - loss: 1.1635 - accuracy: 0.4880\n"
     ]
    },
    {
     "data": {
      "text/plain": [
       "[1.1635488271713257, 0.48804935812950134]"
      ]
     },
     "execution_count": 22,
     "metadata": {},
     "output_type": "execute_result"
    }
   ],
   "source": [
    "model.evaluate(test_data,test_labels)"
   ]
  },
  {
   "cell_type": "code",
   "execution_count": 23,
   "metadata": {
    "colab": {
     "base_uri": "https://localhost:8080/"
    },
    "id": "Ufw4FqsmU-g2",
    "outputId": "232af4c5-4cb3-41aa-99fa-41f34b7ca97e"
   },
   "outputs": [
    {
     "data": {
      "text/plain": [
       "dict_keys(['loss', 'accuracy', 'val_loss', 'val_accuracy'])"
      ]
     },
     "execution_count": 23,
     "metadata": {},
     "output_type": "execute_result"
    }
   ],
   "source": [
    "x = result.history.keys()\n",
    "x"
   ]
  },
  {
   "cell_type": "code",
   "execution_count": 24,
   "metadata": {
    "colab": {
     "base_uri": "https://localhost:8080/",
     "height": 573
    },
    "id": "dOKPsS3HWwUn",
    "outputId": "8575f31d-7fd3-47f2-8a8e-d8df09be1925"
   },
   "outputs": [
    {
     "data": {
      "image/png": "[encoded data removed]",
      "text/plain": [
       "<Figure size 432x288 with 1 Axes>"
      ]
     },
     "metadata": {
      "needs_background": "light"
     },
     "output_type": "display_data"
    },
    {
     "data": {
      "image/png": "[encoded data removed]",
      "text/plain": [
       "<Figure size 432x288 with 1 Axes>"
      ]
     },
     "metadata": {
      "needs_background": "light"
     },
     "output_type": "display_data"
    }
   ],
   "source": [
    "import matplotlib.pyplot as plt\n",
    "\n",
    "plt.plot(result.history['accuracy'])\n",
    "plt.plot(result.history['val_accuracy'])\n",
    "plt.title('model accuracy')\n",
    "plt.ylabel('accuracy')\n",
    "plt.xlabel('epoch')\n",
    "plt.legend(['train', 'test'], loc='upper left')\n",
    "plt.show()\n",
    "# summarize history for loss\n",
    "plt.plot(result.history['loss'])\n",
    "plt.plot(result.history['val_loss'])\n",
    "plt.title('model loss')\n",
    "plt.ylabel('loss')\n",
    "plt.xlabel('epoch')\n",
    "plt.legend(['train', 'test'], loc='upper left')\n",
    "plt.show()"
   ]
  },
  {
   "cell_type": "code",
   "execution_count": 25,
   "metadata": {
    "id": "u7p4aMxliqvO"
   },
   "outputs": [],
   "source": [
    "y_pred1 = model.predict(test_data)"
   ]
  },
  {
   "cell_type": "code",
   "execution_count": 26,
   "metadata": {
    "colab": {
     "base_uri": "https://localhost:8080/"
    },
    "id": "-qhQ6JA_i0YM",
    "outputId": "6e005c90-c8d7-45db-d772-0edd048bf470"
   },
   "outputs": [
    {
     "data": {
      "text/plain": [
       "(1297, 5)"
      ]
     },
     "execution_count": 26,
     "metadata": {},
     "output_type": "execute_result"
    }
   ],
   "source": [
    "y_pred1.shape"
   ]
  },
  {
   "cell_type": "code",
   "execution_count": 27,
   "metadata": {
    "colab": {
     "base_uri": "https://localhost:8080/"
    },
    "id": "P9u0xdNxfeHl",
    "outputId": "307c6473-48d5-4257-cd19-1277ff7a3174"
   },
   "outputs": [
    {
     "data": {
      "text/plain": [
       "array([2, 2, 2, 2, 4, 4, 0, 3, 0, 0, 0, 0, 0, 0, 0, 4, 0, 2, 2, 0, 1, 0,\n",
       "       4, 3, 0, 2, 1, 0, 4, 1], dtype=int64)"
      ]
     },
     "execution_count": 27,
     "metadata": {},
     "output_type": "execute_result"
    }
   ],
   "source": [
    "np.argmax(y_pred1, axis=1)[0:30]"
   ]
  },
  {
   "cell_type": "code",
   "execution_count": 28,
   "metadata": {
    "colab": {
     "base_uri": "https://localhost:8080/"
    },
    "id": "zFzNqz3IvhSG",
    "outputId": "073f6511-eaf8-44a9-ab03-4575bd02ada9"
   },
   "outputs": [
    {
     "data": {
      "text/plain": [
       "array([4, 0, 2, 4, 4, 4, 1, 3, 4, 2, 3, 3, 4, 2, 2, 4, 2, 2, 2, 1, 1, 0,\n",
       "       4, 3, 1, 4, 3, 1, 4, 1])"
      ]
     },
     "execution_count": 28,
     "metadata": {},
     "output_type": "execute_result"
    }
   ],
   "source": [
    "np.array(test_labels[0:30]).astype('int32')"
   ]
  }
 ],
 "metadata": {
  "accelerator": "GPU",
  "colab": {
   "collapsed_sections": [],
   "name": "flowerclassification_28_with_Augmentation_L.ipynb",
   "provenance": []
  },
  "kernelspec": {
   "display_name": "Python 3",
   "language": "python",
   "name": "python3"
  },
  "language_info": {
   "codemirror_mode": {
    "name": "ipython",
    "version": 3
   },
   "file_extension": ".py",
   "mimetype": "text/x-python",
   "name": "python",
   "nbconvert_exporter": "python",
   "pygments_lexer": "ipython3",
   "version": "3.8.3"
  }
 },
 "nbformat": 4,
 "nbformat_minor": 1
}
